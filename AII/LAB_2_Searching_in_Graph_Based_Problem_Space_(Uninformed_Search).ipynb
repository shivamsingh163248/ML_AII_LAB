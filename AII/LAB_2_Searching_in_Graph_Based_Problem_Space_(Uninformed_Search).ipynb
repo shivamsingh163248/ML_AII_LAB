{
  "nbformat": 4,
  "nbformat_minor": 0,
  "metadata": {
    "colab": {
      "provenance": [],
      "authorship_tag": "ABX9TyOvF93/29bGusZKgRgo2V7e",
      "include_colab_link": true
    },
    "kernelspec": {
      "name": "python3",
      "display_name": "Python 3"
    },
    "language_info": {
      "name": "python"
    }
  },
  "cells": [
    {
      "cell_type": "markdown",
      "metadata": {
        "id": "view-in-github",
        "colab_type": "text"
      },
      "source": [
        "<a href=\"https://colab.research.google.com/github/shivamsingh163248/ML_AII_LAB/blob/main/AII/LAB_2_Searching_in_Graph_Based_Problem_Space_(Uninformed_Search).ipynb\" target=\"_parent\"><img src=\"https://colab.research.google.com/assets/colab-badge.svg\" alt=\"Open In Colab\"/></a>"
      ]
    },
    {
      "cell_type": "markdown",
      "source": [
        "📚 LAB 2: Searching in Graph-Based Problem Space (Uninformed Search)\n",
        "🔹 PART 1: Theory\n",
        "\n",
        "What is a Search Problem?\n",
        "A search problem consists of:\n",
        "\n",
        "    Initial State: Where you start\n",
        "\n",
        "    Goal State: Where you want to reach\n",
        "\n",
        "    Actions: Possible moves\n",
        "\n",
        "    Transition Model: Result of actions\n",
        "\n",
        "    Path Cost: Cost to move from one state to another\n",
        "\n",
        "🔹 PART 2: Uninformed Search Techniques\n",
        "\n",
        "Uninformed search means:\n",
        "\n",
        "    No extra information (no heuristics).\n",
        "\n",
        "    Only explores blindly.\n",
        "\n",
        "The main types are:\n",
        "Search Technique\tDescription\n",
        "Breadth-First Search (BFS)\tExplores all nodes at present depth first.\n",
        "Depth-First Search (DFS)\tExplores as far as possible along each branch before backtracking.\n",
        "Uniform Cost Search (UCS)\tLike BFS, but considers cost of paths.\n",
        "Depth-Limited Search (DLS)\tDFS with a depth limit.\n",
        "Iterative Deepening DFS (IDDFS)\tRepeated DFS with increasing depth limits."
      ],
      "metadata": {
        "id": "fxZzYP8kPxPE"
      }
    },
    {
      "cell_type": "markdown",
      "source": [
        "# **1. Breadth-First Search (BFS)**"
      ],
      "metadata": {
        "id": "x9ocUYQ5QRib"
      }
    },
    {
      "cell_type": "code",
      "execution_count": 1,
      "metadata": {
        "colab": {
          "base_uri": "https://localhost:8080/"
        },
        "id": "kMk6b3AaPdg-",
        "outputId": "5ace167c-a232-438f-e35e-9fd4c7325fd4"
      },
      "outputs": [
        {
          "output_type": "stream",
          "name": "stdout",
          "text": [
            "BFS Path: ['A', 'C', 'F']\n"
          ]
        }
      ],
      "source": [
        "from collections import deque\n",
        "\n",
        "def bfs(graph, start, goal):\n",
        "    visited = set()\n",
        "    queue = deque([[start]])\n",
        "\n",
        "    if start == goal:\n",
        "        return [start]\n",
        "\n",
        "    while queue:\n",
        "        path = queue.popleft()\n",
        "        node = path[-1]\n",
        "\n",
        "        if node not in visited:\n",
        "            neighbors = graph.get(node, [])\n",
        "\n",
        "            for neighbor in neighbors:\n",
        "                new_path = list(path)\n",
        "                new_path.append(neighbor)\n",
        "                queue.append(new_path)\n",
        "\n",
        "                if neighbor == goal:\n",
        "                    return new_path\n",
        "\n",
        "            visited.add(node)\n",
        "\n",
        "    return None\n",
        "\n",
        "# Example graph (adjacency list)\n",
        "graph = {\n",
        "    'A': ['B', 'C'],\n",
        "    'B': ['D', 'E'],\n",
        "    'C': ['F'],\n",
        "    'D': [],\n",
        "    'E': ['F'],\n",
        "    'F': []\n",
        "}\n",
        "\n",
        "print(\"BFS Path:\", bfs(graph, 'A', 'F'))\n"
      ]
    },
    {
      "cell_type": "markdown",
      "source": [
        "# 2. Depth-First Search (DFS)"
      ],
      "metadata": {
        "id": "M3eYbx60QhDU"
      }
    },
    {
      "cell_type": "code",
      "source": [
        "def dfs(graph, start, goal, path=None, visited=None):\n",
        "    if path is None:\n",
        "        path = [start]\n",
        "    if visited is None:\n",
        "        visited = set()\n",
        "\n",
        "    visited.add(start)\n",
        "\n",
        "    if start == goal:\n",
        "        return path\n",
        "\n",
        "    for neighbor in graph.get(start, []):\n",
        "        if neighbor not in visited:\n",
        "            new_path = dfs(graph, neighbor, goal, path + [neighbor], visited)\n",
        "            if new_path:\n",
        "                return new_path\n",
        "\n",
        "    return None\n",
        "\n",
        "# Using the same graph\n",
        "print(\"DFS Path:\", dfs(graph, 'A', 'F'))\n"
      ],
      "metadata": {
        "colab": {
          "base_uri": "https://localhost:8080/"
        },
        "id": "nUXyk2YQQXl7",
        "outputId": "0dc7b4cb-89b4-4a21-c8d8-fda46e380fb6"
      },
      "execution_count": 2,
      "outputs": [
        {
          "output_type": "stream",
          "name": "stdout",
          "text": [
            "DFS Path: ['A', 'B', 'E', 'F']\n"
          ]
        }
      ]
    },
    {
      "cell_type": "markdown",
      "source": [
        "# 3. Uniform Cost Search (UCS)"
      ],
      "metadata": {
        "id": "zoh4lBBpQnF_"
      }
    },
    {
      "cell_type": "code",
      "source": [
        "import heapq\n",
        "\n",
        "def ucs(graph, start, goal):\n",
        "    visited = set()\n",
        "    queue = [(0, [start])]  # (cost, path)\n",
        "\n",
        "    while queue:\n",
        "        cost, path = heapq.heappop(queue)\n",
        "        node = path[-1]\n",
        "\n",
        "        if node == goal:\n",
        "            return path, cost\n",
        "\n",
        "        if node not in visited:\n",
        "            visited.add(node)\n",
        "            for neighbor, neighbor_cost in graph.get(node, []):\n",
        "                heapq.heappush(queue, (cost + neighbor_cost, path + [neighbor]))\n",
        "\n",
        "    return None, float('inf')\n",
        "\n",
        "# Example weighted graph\n",
        "weighted_graph = {\n",
        "    'A': [('B', 1), ('C', 5)],\n",
        "    'B': [('D', 3), ('E', 1)],\n",
        "    'C': [('F', 2)],\n",
        "    'D': [],\n",
        "    'E': [('F', 1)],\n",
        "    'F': []\n",
        "}\n",
        "\n",
        "path, cost = ucs(weighted_graph, 'A', 'F')\n",
        "print(\"UCS Path:\", path)\n",
        "print(\"Total Cost:\", cost)\n"
      ],
      "metadata": {
        "colab": {
          "base_uri": "https://localhost:8080/"
        },
        "id": "yZGVMEf-QaLi",
        "outputId": "bffef5cf-3697-433e-ed78-a1aa2963f29a"
      },
      "execution_count": 3,
      "outputs": [
        {
          "output_type": "stream",
          "name": "stdout",
          "text": [
            "UCS Path: ['A', 'B', 'E', 'F']\n",
            "Total Cost: 3\n"
          ]
        }
      ]
    },
    {
      "cell_type": "code",
      "source": [],
      "metadata": {
        "id": "WqCY2tnFQcB5"
      },
      "execution_count": null,
      "outputs": []
    }
  ]
}