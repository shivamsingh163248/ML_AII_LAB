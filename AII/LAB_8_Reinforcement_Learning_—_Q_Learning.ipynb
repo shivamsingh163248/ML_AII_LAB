{
  "nbformat": 4,
  "nbformat_minor": 0,
  "metadata": {
    "colab": {
      "provenance": [],
      "authorship_tag": "ABX9TyPUsaIfWf5pI37twZd/HynI",
      "include_colab_link": true
    },
    "kernelspec": {
      "name": "python3",
      "display_name": "Python 3"
    },
    "language_info": {
      "name": "python"
    }
  },
  "cells": [
    {
      "cell_type": "markdown",
      "metadata": {
        "id": "view-in-github",
        "colab_type": "text"
      },
      "source": [
        "<a href=\"https://colab.research.google.com/github/shivamsingh163248/ML_AII_LAB/blob/main/AII/LAB_8_Reinforcement_Learning_%E2%80%94_Q_Learning.ipynb\" target=\"_parent\"><img src=\"https://colab.research.google.com/assets/colab-badge.svg\" alt=\"Open In Colab\"/></a>"
      ]
    },
    {
      "cell_type": "markdown",
      "source": [
        "📚 LAB 8: Reinforcement Learning — Q-Learning\n",
        "🔸 PART 1: What is Reinforcement Learning (RL)?\n",
        "\n",
        "    RL = Learning from trial and error.\n",
        "\n",
        "    An agent interacts with an environment, receives rewards, and learns which actions are best.\n",
        "\n",
        "    Goal: Maximize cumulative reward.\n",
        "\n",
        "🔸 PART 2: What is Q-Learning?\n",
        "\n",
        "    Q-Learning is a type of model-free reinforcement learning.\n",
        "\n",
        "    It learns the best action to take from any given state.\n",
        "\n",
        "The Q-Value (Quality value) for a (state, action) pair is updated as:\n",
        "Q(s,a)=Q(s,a)+α(r+γmax⁡a′Q(s′,a′)−Q(s,a))\n",
        "Q(s,a)=Q(s,a)+α(r+γa′max​Q(s′,a′)−Q(s,a))\n",
        "\n",
        "Where:\n",
        "\n",
        "    αα = learning rate\n",
        "\n",
        "    γγ = discount factor\n",
        "\n",
        "    rr = reward\n",
        "\n",
        "    s′s′ = next state\n",
        "\n",
        "    a′a′ = next action"
      ],
      "metadata": {
        "id": "gu4-vvGvWUkL"
      }
    },
    {
      "cell_type": "code",
      "execution_count": 1,
      "metadata": {
        "colab": {
          "base_uri": "https://localhost:8080/"
        },
        "id": "H5bxR8tEWN_n",
        "outputId": "a2c286c9-0aec-43c3-fb71-1e367432a9da"
      },
      "outputs": [
        {
          "output_type": "stream",
          "name": "stdout",
          "text": [
            "State (0, 0): {'up': 7.998962399724405, 'down': 10.0, 'left': 7.999801632337036, 'right': 6.063456863164845}\n",
            "State (0, 1): {'up': 2.115234375, 'down': -0.75, 'left': 7.974448680877622, 'right': 3.054007625579834}\n",
            "State (1, 0): {'up': 0, 'down': 0, 'left': 0, 'right': 0}\n",
            "State (1, 1): {'up': -0.5, 'down': -0.5, 'left': 5.0, 'right': 0}\n"
          ]
        }
      ],
      "source": [
        "import numpy as np\n",
        "import random\n",
        "\n",
        "# Define environment\n",
        "states = [(0,0), (0,1), (1,0), (1,1)]\n",
        "actions = ['up', 'down', 'left', 'right']\n",
        "\n",
        "# Initialize Q-table\n",
        "Q = {}\n",
        "for s in states:\n",
        "    Q[s] = {a: 0 for a in actions}\n",
        "\n",
        "# Hyperparameters\n",
        "alpha = 0.5      # learning rate\n",
        "gamma = 0.9      # discount factor\n",
        "epsilon = 0.3    # exploration rate\n",
        "episodes = 100\n",
        "\n",
        "# Reward function\n",
        "def get_reward(state):\n",
        "    if state == (1,0):\n",
        "        return 10\n",
        "    else:\n",
        "        return -1\n",
        "\n",
        "# Transition function\n",
        "def next_state(state, action):\n",
        "    x, y = state\n",
        "    if action == 'up':\n",
        "        x = max(x-1, 0)\n",
        "    elif action == 'down':\n",
        "        x = min(x+1, 1)\n",
        "    elif action == 'left':\n",
        "        y = max(y-1, 0)\n",
        "    elif action == 'right':\n",
        "        y = min(y+1, 1)\n",
        "    return (x, y)\n",
        "\n",
        "# Training loop\n",
        "for ep in range(episodes):\n",
        "    state = (0,0)  # Start at (0,0)\n",
        "\n",
        "    while state != (1,0):  # until goal is reached\n",
        "        if random.uniform(0,1) < epsilon:\n",
        "            action = random.choice(actions)  # explore\n",
        "        else:\n",
        "            action = max(Q[state], key=Q[state].get)  # exploit\n",
        "\n",
        "        next_s = next_state(state, action)\n",
        "        reward = get_reward(next_s)\n",
        "\n",
        "        # Q-learning formula\n",
        "        old_value = Q[state][action]\n",
        "        next_max = max(Q[next_s].values())\n",
        "\n",
        "        Q[state][action] = old_value + alpha * (reward + gamma * next_max - old_value)\n",
        "\n",
        "        state = next_s  # move to next state\n",
        "\n",
        "# Show the learned Q-values\n",
        "for state in Q:\n",
        "    print(f\"State {state}: {Q[state]}\")\n"
      ]
    },
    {
      "cell_type": "code",
      "source": [],
      "metadata": {
        "id": "TIsZNEyAWZb1"
      },
      "execution_count": null,
      "outputs": []
    }
  ]
}