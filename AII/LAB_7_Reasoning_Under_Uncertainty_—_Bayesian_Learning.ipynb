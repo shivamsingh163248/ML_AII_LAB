{
  "nbformat": 4,
  "nbformat_minor": 0,
  "metadata": {
    "colab": {
      "provenance": [],
      "authorship_tag": "ABX9TyOy4poXORE8OMzglB9xUFim",
      "include_colab_link": true
    },
    "kernelspec": {
      "name": "python3",
      "display_name": "Python 3"
    },
    "language_info": {
      "name": "python"
    }
  },
  "cells": [
    {
      "cell_type": "markdown",
      "metadata": {
        "id": "view-in-github",
        "colab_type": "text"
      },
      "source": [
        "<a href=\"https://colab.research.google.com/github/shivamsingh163248/ML_AII_LAB/blob/main/AII/LAB_7_Reasoning_Under_Uncertainty_%E2%80%94_Bayesian_Learning.ipynb\" target=\"_parent\"><img src=\"https://colab.research.google.com/assets/colab-badge.svg\" alt=\"Open In Colab\"/></a>"
      ]
    },
    {
      "cell_type": "markdown",
      "source": [
        "📚 LAB 7: Reasoning Under Uncertainty — Bayesian Learning\n",
        "🔸 PART 1: Why Reasoning Under Uncertainty?\n",
        "\n",
        "In the real world:\n",
        "\n",
        "    Sensors can be noisy.\n",
        "\n",
        "    Observations may be incomplete.\n",
        "\n",
        "    Outcomes are probabilistic (not guaranteed).\n",
        "\n",
        "👉 Bayesian learning helps agents make best guesses under uncertainty.\n",
        "🔸 PART 2: What is Bayes' Theorem?\n",
        "\n",
        "Bayes’ theorem allows updating beliefs after seeing evidence:\n",
        "P(H∣E)=P(E∣H)×P(H)P(E)\n",
        "P(H∣E)=P(E)P(E∣H)×P(H)​\n",
        "\n",
        "Where:\n",
        "\n",
        "    P(H∣E)P(H∣E) = Probability of hypothesis HH given evidence EE (posterior)\n",
        "\n",
        "    P(E∣H)P(E∣H) = Probability of evidence EE given hypothesis HH (likelihood)\n",
        "\n",
        "    P(H)P(H) = Prior probability of hypothesis\n",
        "\n",
        "    P(E)P(E) = Total probability of evidence\n",
        "\n",
        "🔸 PART 3: Example Problem\n",
        "\n",
        "Scenario:\n",
        "\n",
        "    Pacman is unsure if a ghost is nearby.\n",
        "\n",
        "    He has a sensor that detects \"ghost smell\", but it's 80% accurate.\n",
        "\n",
        "Given:\n",
        "\n",
        "    P(Ghost Nearby)=0.2P(Ghost Nearby)=0.2\n",
        "\n",
        "    P(No Ghost Nearby)=0.8P(No Ghost Nearby)=0.8\n",
        "\n",
        "    Sensor accuracy:\n",
        "\n",
        "        P(Smell∣Ghost)=0.8P(Smell∣Ghost)=0.8\n",
        "\n",
        "        P(Smell∣No Ghost)=0.1P(Smell∣No Ghost)=0.1\n",
        "\n",
        "    Pacman senses a smell. What's the probability a ghost is nearby?"
      ],
      "metadata": {
        "id": "fWIZSmhwVvnm"
      }
    },
    {
      "cell_type": "code",
      "execution_count": 1,
      "metadata": {
        "colab": {
          "base_uri": "https://localhost:8080/"
        },
        "id": "uBIT3gabUm1T",
        "outputId": "caa99928-4a19-4f74-db4d-f33c35026d54"
      },
      "outputs": [
        {
          "output_type": "stream",
          "name": "stdout",
          "text": [
            "📈 Probability Ghost Nearby given Smell detected: 0.67\n"
          ]
        }
      ],
      "source": [
        "# Given probabilities\n",
        "P_Ghost = 0.2\n",
        "P_NoGhost = 0.8\n",
        "\n",
        "P_Smell_given_Ghost = 0.8\n",
        "P_Smell_given_NoGhost = 0.1\n",
        "\n",
        "# Using Bayes' theorem\n",
        "P_Smell = (P_Smell_given_Ghost * P_Ghost) + (P_Smell_given_NoGhost * P_NoGhost)\n",
        "\n",
        "P_Ghost_given_Smell = (P_Smell_given_Ghost * P_Ghost) / P_Smell\n",
        "\n",
        "print(f\"📈 Probability Ghost Nearby given Smell detected: {P_Ghost_given_Smell:.2f}\")\n"
      ]
    },
    {
      "cell_type": "markdown",
      "source": [],
      "metadata": {
        "id": "lWh0utp4V6LD"
      }
    },
    {
      "cell_type": "code",
      "source": [
        "# Multiple sensor readings\n",
        "sensor_readings = [\"Smell\", \"No Smell\", \"Smell\"]\n",
        "\n",
        "# Update beliefs after each observation\n",
        "for reading in sensor_readings:\n",
        "    if reading == \"Smell\":\n",
        "        P_Smell = (P_Smell_given_Ghost * P_Ghost) + (P_Smell_given_NoGhost * P_NoGhost)\n",
        "        P_Ghost = (P_Smell_given_Ghost * P_Ghost) / P_Smell\n",
        "    else:  # No Smell\n",
        "        P_NoSmell_given_Ghost = 1 - P_Smell_given_Ghost\n",
        "        P_NoSmell_given_NoGhost = 1 - P_Smell_given_NoGhost\n",
        "        P_NoSmell = (P_NoSmell_given_Ghost * P_Ghost) + (P_NoSmell_given_NoGhost * P_NoGhost)\n",
        "        P_Ghost = (P_NoSmell_given_Ghost * P_Ghost) / P_NoSmell\n",
        "\n",
        "    P_NoGhost = 1 - P_Ghost\n",
        "    print(f\"Updated Probability Ghost Nearby after '{reading}': {P_Ghost:.2f}\")\n"
      ],
      "metadata": {
        "colab": {
          "base_uri": "https://localhost:8080/"
        },
        "id": "FnF9MNInV1SH",
        "outputId": "d4ec7433-8c59-40fe-8905-afa2311f0417"
      },
      "execution_count": 2,
      "outputs": [
        {
          "output_type": "stream",
          "name": "stdout",
          "text": [
            "Updated Probability Ghost Nearby after 'Smell': 0.67\n",
            "Updated Probability Ghost Nearby after 'No Smell': 0.31\n",
            "Updated Probability Ghost Nearby after 'Smell': 0.78\n"
          ]
        }
      ]
    },
    {
      "cell_type": "code",
      "source": [],
      "metadata": {
        "id": "WxqwOgByV7oN"
      },
      "execution_count": null,
      "outputs": []
    }
  ]
}