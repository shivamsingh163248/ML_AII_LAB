{
  "nbformat": 4,
  "nbformat_minor": 0,
  "metadata": {
    "colab": {
      "provenance": [],
      "authorship_tag": "ABX9TyNTzFk539k5sTeKXHfWXC/T",
      "include_colab_link": true
    },
    "kernelspec": {
      "name": "python3",
      "display_name": "Python 3"
    },
    "language_info": {
      "name": "python"
    }
  },
  "cells": [
    {
      "cell_type": "markdown",
      "metadata": {
        "id": "view-in-github",
        "colab_type": "text"
      },
      "source": [
        "<a href=\"https://colab.research.google.com/github/shivamsingh163248/ML_AII_LAB/blob/main/AII/LAB_6_Logical_Agents_and_Knowledge_Representation.ipynb\" target=\"_parent\"><img src=\"https://colab.research.google.com/assets/colab-badge.svg\" alt=\"Open In Colab\"/></a>"
      ]
    },
    {
      "cell_type": "markdown",
      "source": [
        "# 📚 LAB 6: Logical Agents and Knowledge Representation\n",
        "🔸 PART 1: What is a Logical Agent?\n",
        "\n",
        "    A logical agent uses knowledge (facts + rules) to make decisions.\n",
        "\n",
        "    It reasons about the world using inference (deduction, prediction).\n",
        "\n",
        "    Example:\n",
        "    If \"It is raining\" AND \"If it rains, the ground becomes wet\", then deduce: \"The ground is wet.\"\n",
        "\n",
        "🔸 PART 2: Knowledge Representation (KR)\n",
        "\n",
        "    Facts: What the agent knows to be true.\n",
        "\n",
        "    Rules: How facts relate.\n",
        "\n",
        "    Inference: Drawing conclusions from facts and rules.\n",
        "\n",
        "Concept\tExample\n",
        "Fact\t\"Pacman is at (2,2)\"\n",
        "Rule\t\"If Pacman is near ghost, Pacman must escape\"\n",
        "Inference\t\"Ghost detected => Escape move\"\n",
        "🔸 PART 3: Logical Statements using Python\n",
        "\n",
        "We'll represent facts and rules in Python for a simple Pacman world."
      ],
      "metadata": {
        "id": "aOpwy2b-T-KT"
      }
    },
    {
      "cell_type": "code",
      "execution_count": 1,
      "metadata": {
        "colab": {
          "base_uri": "https://localhost:8080/"
        },
        "id": "CMANSRMVT2Ya",
        "outputId": "b880b6f0-36c1-4957-8e44-2c828a27fbea"
      },
      "outputs": [
        {
          "output_type": "stream",
          "name": "stdout",
          "text": [
            "⚠️ Danger! Pacman should escape!\n"
          ]
        }
      ],
      "source": [
        "# Knowledge Base (KB)\n",
        "knowledge_base = {\n",
        "    \"pacman_location\": (2, 2),\n",
        "    \"ghost_locations\": [(2, 3), (3, 2)],\n",
        "    \"walls\": [(1, 2), (2, 1)]\n",
        "}\n",
        "\n",
        "# Rules\n",
        "def is_pacman_near_ghost(pacman, ghosts):\n",
        "    x, y = pacman\n",
        "    for gx, gy in ghosts:\n",
        "        if abs(gx - x) + abs(gy - y) == 1:  # Manhattan Distance = 1\n",
        "            return True\n",
        "    return False\n",
        "\n",
        "# Inference\n",
        "if is_pacman_near_ghost(knowledge_base[\"pacman_location\"], knowledge_base[\"ghost_locations\"]):\n",
        "    print(\"⚠️ Danger! Pacman should escape!\")\n",
        "else:\n",
        "    print(\"✅ Safe. Pacman can continue.\")\n"
      ]
    },
    {
      "cell_type": "code",
      "source": [
        "def safe_moves(pacman, walls, ghosts):\n",
        "    x, y = pacman\n",
        "    directions = [(-1,0), (1,0), (0,-1), (0,1)]\n",
        "    safe_moves = []\n",
        "    for dx, dy in directions:\n",
        "        nx, ny = x+dx, y+dy\n",
        "        if (nx, ny) not in walls and (nx, ny) not in ghosts:\n",
        "            safe_moves.append((nx, ny))\n",
        "    return safe_moves\n",
        "\n",
        "safe_options = safe_moves(knowledge_base[\"pacman_location\"], knowledge_base[\"walls\"], knowledge_base[\"ghost_locations\"])\n",
        "print(\"🛡️ Safe moves:\", safe_options)\n"
      ],
      "metadata": {
        "colab": {
          "base_uri": "https://localhost:8080/"
        },
        "id": "gooIHUPvUE42",
        "outputId": "7cce4502-a5d4-4e25-81cc-6f3231adac59"
      },
      "execution_count": 2,
      "outputs": [
        {
          "output_type": "stream",
          "name": "stdout",
          "text": [
            "🛡️ Safe moves: []\n"
          ]
        }
      ]
    },
    {
      "cell_type": "code",
      "source": [],
      "metadata": {
        "id": "hVjSrmxZUHGG"
      },
      "execution_count": null,
      "outputs": []
    }
  ]
}