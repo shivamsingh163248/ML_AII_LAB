{
  "nbformat": 4,
  "nbformat_minor": 0,
  "metadata": {
    "colab": {
      "provenance": [],
      "authorship_tag": "ABX9TyOo5CdmmtPfASGg1khVtf+L",
      "include_colab_link": true
    },
    "kernelspec": {
      "name": "python3",
      "display_name": "Python 3"
    },
    "language_info": {
      "name": "python"
    }
  },
  "cells": [
    {
      "cell_type": "markdown",
      "metadata": {
        "id": "view-in-github",
        "colab_type": "text"
      },
      "source": [
        "<a href=\"https://colab.research.google.com/github/shivamsingh163248/ML_AII_LAB/blob/main/AII/AII_LAB.ipynb\" target=\"_parent\"><img src=\"https://colab.research.google.com/assets/colab-badge.svg\" alt=\"Open In Colab\"/></a>"
      ]
    },
    {
      "cell_type": "code",
      "execution_count": 1,
      "metadata": {
        "id": "uqAfN7O6u2JI"
      },
      "outputs": [],
      "source": [
        "graph = {\n",
        "    'A': ['B', 'C'],\n",
        "    'B': ['D', 'E'],\n",
        "    'C': ['F'],\n",
        "    'D': [],\n",
        "    'E': ['F'],\n",
        "    'F': []\n",
        "}\n"
      ]
    },
    {
      "cell_type": "markdown",
      "source": [
        " 1. Breadth-First Search (BFS)"
      ],
      "metadata": {
        "id": "WTkHp4_ru8iR"
      }
    },
    {
      "cell_type": "code",
      "source": [
        "from collections import deque\n",
        "\n",
        "def bfs(graph, start, goal):\n",
        "    visited = set()\n",
        "    queue = deque([[start]])\n",
        "\n",
        "    while queue:\n",
        "        path = queue.popleft()\n",
        "        node = path[-1]\n",
        "\n",
        "        if node == goal:\n",
        "            return path\n",
        "\n",
        "        if node not in visited:\n",
        "            visited.add(node)\n",
        "            for neighbor in graph[node]:\n",
        "                new_path = list(path)\n",
        "                new_path.append(neighbor)\n",
        "                queue.append(new_path)\n",
        "    return None\n",
        "\n",
        "print(\"BFS:\", bfs(graph, 'A', 'F'))\n"
      ],
      "metadata": {
        "colab": {
          "base_uri": "https://localhost:8080/"
        },
        "id": "N9tArE8Ou7A9",
        "outputId": "24717588-5c84-444c-a43e-35ea580fc86e"
      },
      "execution_count": 2,
      "outputs": [
        {
          "output_type": "stream",
          "name": "stdout",
          "text": [
            "BFS: ['A', 'C', 'F']\n"
          ]
        }
      ]
    },
    {
      "cell_type": "markdown",
      "source": [
        "✅ 2. Depth-First Search (DFS)"
      ],
      "metadata": {
        "id": "6yerf67yvDP9"
      }
    },
    {
      "cell_type": "code",
      "source": [
        "def dfs(graph, start, goal, path=None, visited=None):\n",
        "    if visited is None:\n",
        "        visited = set()\n",
        "    if path is None:\n",
        "        path = [start]\n",
        "\n",
        "    if start == goal:\n",
        "        return path\n",
        "\n",
        "    visited.add(start)\n",
        "\n",
        "    for neighbor in graph[start]:\n",
        "        if neighbor not in visited:\n",
        "            new_path = dfs(graph, neighbor, goal, path + [neighbor], visited)\n",
        "            if new_path:\n",
        "                return new_path\n",
        "    return None\n",
        "\n",
        "print(\"DFS:\", dfs(graph, 'A', 'F'))\n"
      ],
      "metadata": {
        "colab": {
          "base_uri": "https://localhost:8080/"
        },
        "id": "-aTdVh0vvA5W",
        "outputId": "85053693-6980-4497-9450-4c86a77fc5e1"
      },
      "execution_count": 3,
      "outputs": [
        {
          "output_type": "stream",
          "name": "stdout",
          "text": [
            "DFS: ['A', 'B', 'E', 'F']\n"
          ]
        }
      ]
    },
    {
      "cell_type": "code",
      "source": [],
      "metadata": {
        "id": "62IXdY4TvFNd"
      },
      "execution_count": null,
      "outputs": []
    },
    {
      "cell_type": "markdown",
      "source": [
        "3. Uniform Cost Search (UCS)"
      ],
      "metadata": {
        "id": "-iSE1TBGvHYR"
      }
    },
    {
      "cell_type": "code",
      "source": [
        "import heapq\n",
        "\n",
        "weighted_graph = {\n",
        "    'A': [('B', 1), ('C', 4)],\n",
        "    'B': [('D', 4), ('E', 2)],\n",
        "    'C': [('F', 5)],\n",
        "    'D': [],\n",
        "    'E': [('F', 1)],\n",
        "    'F': []\n",
        "}\n",
        "\n",
        "def ucs(graph, start, goal):\n",
        "    visited = set()\n",
        "    pq = [(0, [start])]\n",
        "\n",
        "    while pq:\n",
        "        (cost, path) = heapq.heappop(pq)\n",
        "        node = path[-1]\n",
        "\n",
        "        if node == goal:\n",
        "            return path, cost\n",
        "\n",
        "        if node not in visited:\n",
        "            visited.add(node)\n",
        "            for neighbor, weight in graph[node]:\n",
        "                heapq.heappush(pq, (cost + weight, path + [neighbor]))\n",
        "    return None\n",
        "\n",
        "print(\"UCS:\", ucs(weighted_graph, 'A', 'F'))\n"
      ],
      "metadata": {
        "colab": {
          "base_uri": "https://localhost:8080/"
        },
        "id": "RDxtK0djvJD1",
        "outputId": "8ec89675-ecf9-469a-cd49-864d8d6c671e"
      },
      "execution_count": 4,
      "outputs": [
        {
          "output_type": "stream",
          "name": "stdout",
          "text": [
            "UCS: (['A', 'B', 'E', 'F'], 4)\n"
          ]
        }
      ]
    },
    {
      "cell_type": "markdown",
      "source": [
        "4. Depth-Limited Search"
      ],
      "metadata": {
        "id": "L13_AbvivNVF"
      }
    },
    {
      "cell_type": "code",
      "source": [
        "def depth_limited_search(graph, start, goal, limit):\n",
        "    def recursive_dls(node, goal, limit, path, visited):\n",
        "        if node == goal:\n",
        "            return path\n",
        "        if limit <= 0:\n",
        "            return None\n",
        "        visited.add(node)\n",
        "        for neighbor in graph[node]:\n",
        "            if neighbor not in visited:\n",
        "                result = recursive_dls(neighbor, goal, limit - 1, path + [neighbor], visited)\n",
        "                if result:\n",
        "                    return result\n",
        "        return None\n",
        "\n",
        "    return recursive_dls(start, goal, limit, [start], set())\n",
        "\n",
        "print(\"Depth-Limited Search:\", depth_limited_search(graph, 'A', 'F', 3))\n"
      ],
      "metadata": {
        "colab": {
          "base_uri": "https://localhost:8080/"
        },
        "id": "TJiyYYCwvK9d",
        "outputId": "8898b8ad-07cd-4261-ade5-0f81a3e2745f"
      },
      "execution_count": 5,
      "outputs": [
        {
          "output_type": "stream",
          "name": "stdout",
          "text": [
            "Depth-Limited Search: ['A', 'B', 'E', 'F']\n"
          ]
        }
      ]
    },
    {
      "cell_type": "markdown",
      "source": [
        "Iterative Deepening DFS (IDDFS)"
      ],
      "metadata": {
        "id": "lAmYoELYvUEF"
      }
    },
    {
      "cell_type": "code",
      "source": [
        "def iddfs(graph, start, goal, max_depth):\n",
        "    for depth in range(max_depth + 1):\n",
        "        result = depth_limited_search(graph, start, goal, depth)\n",
        "        if result:\n",
        "            return result\n",
        "    return None\n",
        "\n",
        "print(\"IDDFS:\", iddfs(graph, 'A', 'F', 5))\n"
      ],
      "metadata": {
        "colab": {
          "base_uri": "https://localhost:8080/"
        },
        "id": "HUS2MgC_vQTw",
        "outputId": "0d4220e3-f3fc-4cc5-9a6a-bf4d91ae982f"
      },
      "execution_count": 6,
      "outputs": [
        {
          "output_type": "stream",
          "name": "stdout",
          "text": [
            "IDDFS: ['A', 'C', 'F']\n"
          ]
        }
      ]
    },
    {
      "cell_type": "markdown",
      "source": [
        " 6. Bidirectional Search"
      ],
      "metadata": {
        "id": "4oBJUJ64vYEB"
      }
    },
    {
      "cell_type": "code",
      "source": [
        "def bidirectional_search(graph, start, goal):\n",
        "    from collections import deque\n",
        "\n",
        "    if start == goal:\n",
        "        return [start]\n",
        "\n",
        "    front_visited = {start: [start]}\n",
        "    back_visited = {goal: [goal]}\n",
        "    front_queue = deque([start])\n",
        "    back_queue = deque([goal])\n",
        "\n",
        "    while front_queue and back_queue:\n",
        "        # Expand forward\n",
        "        current = front_queue.popleft()\n",
        "        for neighbor in graph[current]:\n",
        "            if neighbor not in front_visited:\n",
        "                front_visited[neighbor] = front_visited[current] + [neighbor]\n",
        "                front_queue.append(neighbor)\n",
        "                if neighbor in back_visited:\n",
        "                    return front_visited[neighbor] + back_visited[neighbor][::-1][1:]\n",
        "\n",
        "        # Expand backward\n",
        "        current = back_queue.popleft()\n",
        "        for node, neighbors in graph.items():\n",
        "            if current in neighbors:\n",
        "                if node not in back_visited:\n",
        "                    back_visited[node] = back_visited[current] + [node]\n",
        "                    back_queue.append(node)\n",
        "                    if node in front_visited:\n",
        "                        return front_visited[node] + back_visited[node][::-1][1:]\n",
        "\n",
        "    return None\n",
        "\n",
        "print(\"Bidirectional Search:\", bidirectional_search(graph, 'A', 'F'))\n"
      ],
      "metadata": {
        "colab": {
          "base_uri": "https://localhost:8080/"
        },
        "id": "9LWLyUQxvWXN",
        "outputId": "75d7f6c3-3c99-437b-a397-b454f9d69a3f"
      },
      "execution_count": 7,
      "outputs": [
        {
          "output_type": "stream",
          "name": "stdout",
          "text": [
            "Bidirectional Search: ['A', 'C', 'F']\n"
          ]
        }
      ]
    },
    {
      "cell_type": "markdown",
      "source": [
        "# **🔹 Step 2: Informed (Heuristic) Search Algorithms**\n",
        "\n",
        "We'll use a graph with heuristic values (h(n)) and optionally costs between nodes."
      ],
      "metadata": {
        "id": "MoFbIr5kvh85"
      }
    },
    {
      "cell_type": "markdown",
      "source": [
        "Sample Graph with Heuristics"
      ],
      "metadata": {
        "id": "IqsbiEYXvkAI"
      }
    },
    {
      "cell_type": "code",
      "source": [
        "graph = {\n",
        "    'A': [('B', 1), ('C', 4)],\n",
        "    'B': [('D', 4), ('E', 2)],\n",
        "    'C': [('F', 5)],\n",
        "    'D': [],\n",
        "    'E': [('F', 1)],\n",
        "    'F': []\n",
        "}\n",
        "\n",
        "heuristic = {\n",
        "    'A': 7,\n",
        "    'B': 6,\n",
        "    'C': 2,\n",
        "    'D': 5,\n",
        "    'E': 1,\n",
        "    'F': 0\n",
        "}\n"
      ],
      "metadata": {
        "id": "8MavIqc_vaT1"
      },
      "execution_count": 8,
      "outputs": []
    },
    {
      "cell_type": "markdown",
      "source": [
        "1. Greedy Best-First Search"
      ],
      "metadata": {
        "id": "D1byJDkDvrtp"
      }
    },
    {
      "cell_type": "code",
      "source": [
        "import heapq\n",
        "\n",
        "def greedy_best_first_search(graph, start, goal, heuristic):\n",
        "    visited = set()\n",
        "    pq = [(heuristic[start], [start])]\n",
        "\n",
        "    while pq:\n",
        "        (h, path) = heapq.heappop(pq)\n",
        "        node = path[-1]\n",
        "\n",
        "        if node == goal:\n",
        "            return path\n",
        "\n",
        "        if node not in visited:\n",
        "            visited.add(node)\n",
        "            for neighbor, _ in graph.get(node, []):\n",
        "                new_path = path + [neighbor]\n",
        "                heapq.heappush(pq, (heuristic[neighbor], new_path))\n",
        "\n",
        "    return None\n",
        "\n",
        "print(\"Greedy Best-First Search:\", greedy_best_first_search(graph, 'A', 'F', heuristic))\n"
      ],
      "metadata": {
        "colab": {
          "base_uri": "https://localhost:8080/"
        },
        "id": "b6958XczvoG0",
        "outputId": "86d28d88-c332-4751-cb26-68c092fc5aeb"
      },
      "execution_count": 9,
      "outputs": [
        {
          "output_type": "stream",
          "name": "stdout",
          "text": [
            "Greedy Best-First Search: ['A', 'C', 'F']\n"
          ]
        }
      ]
    },
    {
      "cell_type": "markdown",
      "source": [
        "2. A* Search (A-Star)"
      ],
      "metadata": {
        "id": "GiGdJt5xvwRk"
      }
    },
    {
      "cell_type": "code",
      "source": [
        "def a_star_search(graph, start, goal, heuristic):\n",
        "    visited = set()\n",
        "    pq = [(heuristic[start], 0, [start])]\n",
        "\n",
        "    while pq:\n",
        "        (f, cost, path) = heapq.heappop(pq)\n",
        "        node = path[-1]\n",
        "\n",
        "        if node == goal:\n",
        "            return path, cost\n",
        "\n",
        "        if node not in visited:\n",
        "            visited.add(node)\n",
        "            for neighbor, weight in graph[node]:\n",
        "                g = cost + weight\n",
        "                h = heuristic[neighbor]\n",
        "                heapq.heappush(pq, (g + h, g, path + [neighbor]))\n",
        "\n",
        "    return None\n",
        "\n",
        "print(\"A* Search:\", a_star_search(graph, 'A', 'F', heuristic))\n"
      ],
      "metadata": {
        "colab": {
          "base_uri": "https://localhost:8080/"
        },
        "id": "K0woLYIWvuX-",
        "outputId": "7c740b14-b792-4f01-abac-c91b7708e996"
      },
      "execution_count": 10,
      "outputs": [
        {
          "output_type": "stream",
          "name": "stdout",
          "text": [
            "A* Search: (['A', 'B', 'E', 'F'], 4)\n"
          ]
        }
      ]
    },
    {
      "cell_type": "markdown",
      "source": [
        ". Beam Search"
      ],
      "metadata": {
        "id": "BH_j_gxpv1sl"
      }
    },
    {
      "cell_type": "code",
      "source": [
        "def beam_search(graph, start, goal, heuristic, beam_width):\n",
        "    from heapq import heappush, heappop\n",
        "\n",
        "    level = [[start]]\n",
        "\n",
        "    while level:\n",
        "        candidates = []\n",
        "        for path in level:\n",
        "            node = path[-1]\n",
        "            if node == goal:\n",
        "                return path\n",
        "            for neighbor, _ in graph.get(node, []):\n",
        "                new_path = path + [neighbor]\n",
        "                heappush(candidates, (heuristic[neighbor], new_path))\n",
        "\n",
        "        # Keep only top k (beam width)\n",
        "        level = [heappop(candidates)[1] for _ in range(min(beam_width, len(candidates)))]\n",
        "\n",
        "    return None\n",
        "\n",
        "print(\"Beam Search (width=2):\", beam_search(graph, 'A', 'F', heuristic, beam_width=2))\n"
      ],
      "metadata": {
        "colab": {
          "base_uri": "https://localhost:8080/"
        },
        "id": "Hu-h59OsvyI0",
        "outputId": "c27ae9f4-0804-4edf-c4ab-84b6099fcf61"
      },
      "execution_count": 11,
      "outputs": [
        {
          "output_type": "stream",
          "name": "stdout",
          "text": [
            "Beam Search (width=2): ['A', 'C', 'F']\n"
          ]
        }
      ]
    },
    {
      "cell_type": "markdown",
      "source": [
        " Hill Climbing (Steepest-Ascent)"
      ],
      "metadata": {
        "id": "zG0ObooSv55T"
      }
    },
    {
      "cell_type": "code",
      "source": [
        "def hill_climbing(graph, start, goal, heuristic):\n",
        "    current = start\n",
        "    path = [start]\n",
        "\n",
        "    while current != goal:\n",
        "        neighbors = graph.get(current, [])\n",
        "        if not neighbors:\n",
        "            return None\n",
        "\n",
        "        next_node = min(neighbors, key=lambda x: heuristic[x[0]])\n",
        "        if heuristic[next_node[0]] >= heuristic[current]:  # No improvement\n",
        "            return None\n",
        "\n",
        "        current = next_node[0]\n",
        "        path.append(current)\n",
        "\n",
        "    return path\n",
        "\n",
        "print(\"Hill Climbing:\", hill_climbing(graph, 'A', 'F', heuristic))\n"
      ],
      "metadata": {
        "colab": {
          "base_uri": "https://localhost:8080/"
        },
        "id": "gYEJQWyAv3q7",
        "outputId": "6a8227be-442d-458a-d0a6-cd49aead5b69"
      },
      "execution_count": 12,
      "outputs": [
        {
          "output_type": "stream",
          "name": "stdout",
          "text": [
            "Hill Climbing: ['A', 'C', 'F']\n"
          ]
        }
      ]
    },
    {
      "cell_type": "markdown",
      "source": [
        "Simulated Annealing"
      ],
      "metadata": {
        "id": "ZhkDbWd4v-21"
      }
    },
    {
      "cell_type": "code",
      "source": [
        "import math\n",
        "import random\n",
        "\n",
        "def simulated_annealing(graph, start, goal, heuristic, initial_temp=100, cooling_rate=0.95):\n",
        "    current = start\n",
        "    path = [start]\n",
        "    temp = initial_temp\n",
        "\n",
        "    while current != goal and temp > 1:\n",
        "        neighbors = graph.get(current, [])\n",
        "        if not neighbors:\n",
        "            return None\n",
        "\n",
        "        next_node = random.choice(neighbors)[0]\n",
        "        delta_e = heuristic[current] - heuristic[next_node]\n",
        "\n",
        "        if delta_e > 0 or math.exp(delta_e / temp) > random.random():\n",
        "            current = next_node\n",
        "            path.append(current)\n",
        "\n",
        "        temp *= cooling_rate\n",
        "\n",
        "    return path if current == goal else None\n",
        "\n",
        "print(\"Simulated Annealing:\", simulated_annealing(graph, 'A', 'F', heuristic))\n"
      ],
      "metadata": {
        "colab": {
          "base_uri": "https://localhost:8080/"
        },
        "id": "a4w5QyUPv7st",
        "outputId": "0354abe5-0e05-49ba-b80d-30169842f3c3"
      },
      "execution_count": 13,
      "outputs": [
        {
          "output_type": "stream",
          "name": "stdout",
          "text": [
            "Simulated Annealing: ['A', 'C', 'F']\n"
          ]
        }
      ]
    },
    {
      "cell_type": "markdown",
      "source": [
        " Genetic Algorithm (Basic Version for Path Optimization)"
      ],
      "metadata": {
        "id": "wH-k-OKYwD9o"
      }
    },
    {
      "cell_type": "code",
      "source": [
        "def fitness(path, graph):\n",
        "    cost = 0\n",
        "    for i in range(len(path) - 1):\n",
        "        neighbors = dict(graph.get(path[i], []))\n",
        "        if path[i + 1] not in neighbors:\n",
        "            return float('inf')  # Invalid path\n",
        "        cost += neighbors[path[i + 1]]\n",
        "    return cost\n",
        "\n",
        "def genetic_algorithm(graph, start, goal, population_size=6, generations=20, mutation_rate=0.1):\n",
        "    import random\n",
        "\n",
        "    nodes = list(graph.keys())\n",
        "\n",
        "    def generate_random_path():\n",
        "        path = [start]\n",
        "        while path[-1] != goal and len(path) < len(nodes) + 5:\n",
        "            neighbors = [n for n, _ in graph.get(path[-1], [])]\n",
        "            if not neighbors:\n",
        "                break\n",
        "            path.append(random.choice(neighbors))\n",
        "        return path if path[-1] == goal else generate_random_path()\n",
        "\n",
        "    population = [generate_random_path() for _ in range(population_size)]\n",
        "\n",
        "    for _ in range(generations):\n",
        "        population.sort(key=lambda x: fitness(x, graph))\n",
        "        new_population = population[:2]  # Elitism\n",
        "        while len(new_population) < population_size:\n",
        "            p1, p2 = random.sample(population[:4], 2)\n",
        "            split = random.randint(1, min(len(p1), len(p2)) - 2)\n",
        "            child = p1[:split] + p2[split:]\n",
        "            if random.random() < mutation_rate:\n",
        "                mutate_idx = random.randint(1, len(child) - 2)\n",
        "                child[mutate_idx] = random.choice(nodes)\n",
        "            if child[-1] != goal:\n",
        "                child = generate_random_path()\n",
        "            new_population.append(child)\n",
        "        population = new_population\n",
        "\n",
        "    best = min(population, key=lambda x: fitness(x, graph))\n",
        "    return best, fitness(best, graph)\n",
        "\n",
        "print(\"Genetic Algorithm:\", genetic_algorithm(graph, 'A', 'F'))\n"
      ],
      "metadata": {
        "colab": {
          "base_uri": "https://localhost:8080/"
        },
        "id": "70rgnmYRwA_l",
        "outputId": "e4a49530-480a-4a2b-bf6d-154fd2e4dc18"
      },
      "execution_count": 14,
      "outputs": [
        {
          "output_type": "stream",
          "name": "stdout",
          "text": [
            "Genetic Algorithm: (['A', 'B', 'E', 'F'], 4)\n"
          ]
        }
      ]
    },
    {
      "cell_type": "code",
      "source": [],
      "metadata": {
        "id": "4uVOiZGmwGZd"
      },
      "execution_count": null,
      "outputs": []
    },
    {
      "cell_type": "markdown",
      "source": [
        "# 🔹 Step 3: Game Tree Search Algorithms\n",
        "\n",
        "These algorithms are used in two-player games like Tic Tac Toe, Chess, etc., where players take turns. The algorithms simulate moves, evaluate outcomes, and choose the best one.\n",
        "\n",
        "We'll implement:\n",
        "\n",
        "    Minimax Algorithm\n",
        "\n",
        "    Minimax with Alpha-Beta Pruning\n",
        "\n",
        "    Expectimax (for probabilistic decisions)\n",
        "\n",
        "    Tic Tac Toe Example with Minimax"
      ],
      "metadata": {
        "id": "V0Nml5tlwM2p"
      }
    },
    {
      "cell_type": "markdown",
      "source": [
        " 1. Minimax Algorithm"
      ],
      "metadata": {
        "id": "XhYZuaWswSXV"
      }
    },
    {
      "cell_type": "code",
      "source": [
        "def minimax(position, depth, is_maximizing, evaluate, get_moves, apply_move):\n",
        "    if depth == 0 or is_terminal(position):\n",
        "        return evaluate(position)\n",
        "\n",
        "    if is_maximizing:\n",
        "        max_eval = float('-inf')\n",
        "        for move in get_moves(position, True):\n",
        "            new_pos = apply_move(position, move)\n",
        "            eval = minimax(new_pos, depth - 1, False, evaluate, get_moves, apply_move)\n",
        "            max_eval = max(max_eval, eval)\n",
        "        return max_eval\n",
        "    else:\n",
        "        min_eval = float('inf')\n",
        "        for move in get_moves(position, False):\n",
        "            new_pos = apply_move(position, move)\n",
        "            eval = minimax(new_pos, depth - 1, True, evaluate, get_moves, apply_move)\n",
        "            min_eval = min(min_eval, eval)\n",
        "        return min_eval\n"
      ],
      "metadata": {
        "id": "lfOnA1uRwPjf"
      },
      "execution_count": 15,
      "outputs": []
    },
    {
      "cell_type": "markdown",
      "source": [
        "Minimax with Alpha-Beta Pruning"
      ],
      "metadata": {
        "id": "IWaRbMNjwXJK"
      }
    },
    {
      "cell_type": "code",
      "source": [
        "def alpha_beta(position, depth, alpha, beta, is_maximizing, evaluate, get_moves, apply_move):\n",
        "    if depth == 0 or is_terminal(position):\n",
        "        return evaluate(position)\n",
        "\n",
        "    if is_maximizing:\n",
        "        max_eval = float('-inf')\n",
        "        for move in get_moves(position, True):\n",
        "            new_pos = apply_move(position, move)\n",
        "            eval = alpha_beta(new_pos, depth - 1, alpha, beta, False, evaluate, get_moves, apply_move)\n",
        "            max_eval = max(max_eval, eval)\n",
        "            alpha = max(alpha, eval)\n",
        "            if beta <= alpha:\n",
        "                break\n",
        "        return max_eval\n",
        "    else:\n",
        "        min_eval = float('inf')\n",
        "        for move in get_moves(position, False):\n",
        "            new_pos = apply_move(position, move)\n",
        "            eval = alpha_beta(new_pos, depth - 1, alpha, beta, True, evaluate, get_moves, apply_move)\n",
        "            min_eval = min(min_eval, eval)\n",
        "            beta = min(beta, eval)\n",
        "            if beta <= alpha:\n",
        "                break\n",
        "        return min_eval\n"
      ],
      "metadata": {
        "id": "BAATzhxIwUSs"
      },
      "execution_count": 16,
      "outputs": []
    },
    {
      "cell_type": "markdown",
      "source": [
        "Expectimax (for randomness, e.g., in dice games or AI with chance)"
      ],
      "metadata": {
        "id": "4HdsrPNVwdHL"
      }
    },
    {
      "cell_type": "code",
      "source": [
        "def expectimax(position, depth, is_maximizing, evaluate, get_moves, apply_move):\n",
        "    if depth == 0 or is_terminal(position):\n",
        "        return evaluate(position)\n",
        "\n",
        "    if is_maximizing:\n",
        "        max_eval = float('-inf')\n",
        "        for move in get_moves(position, True):\n",
        "            new_pos = apply_move(position, move)\n",
        "            eval = expectimax(new_pos, depth - 1, False, evaluate, get_moves, apply_move)\n",
        "            max_eval = max(max_eval, eval)\n",
        "        return max_eval\n",
        "    else:\n",
        "        expected_value = 0\n",
        "        moves = get_moves(position, False)\n",
        "        for move in moves:\n",
        "            new_pos = apply_move(position, move)\n",
        "            eval = expectimax(new_pos, depth - 1, True, evaluate, get_moves, apply_move)\n",
        "            expected_value += eval / len(moves)\n",
        "        return expected_value\n"
      ],
      "metadata": {
        "id": "I8RmW2ZUwY2L"
      },
      "execution_count": 17,
      "outputs": []
    },
    {
      "cell_type": "markdown",
      "source": [
        " Tic Tac Toe (Minimax Example)"
      ],
      "metadata": {
        "id": "JZdY0EDBwirD"
      }
    },
    {
      "cell_type": "code",
      "source": [
        "def print_board(board):\n",
        "    for row in board:\n",
        "        print(\" \".join(row))\n",
        "    print()\n",
        "\n",
        "def check_winner(board):\n",
        "    for row in board:\n",
        "        if row[0] == row[1] == row[2] != ' ':\n",
        "            return row[0]\n",
        "    for col in range(3):\n",
        "        if board[0][col] == board[1][col] == board[2][col] != ' ':\n",
        "            return board[0][col]\n",
        "    if board[0][0] == board[1][1] == board[2][2] != ' ' or board[0][2] == board[1][1] == board[2][0] != ' ':\n",
        "        return board[1][1]\n",
        "    return None\n",
        "\n",
        "def is_terminal(board):\n",
        "    return check_winner(board) is not None or all(cell != ' ' for row in board for cell in row)\n",
        "\n",
        "def evaluate(board):\n",
        "    winner = check_winner(board)\n",
        "    if winner == 'X': return 1\n",
        "    elif winner == 'O': return -1\n",
        "    return 0\n",
        "\n",
        "def get_moves(board, is_maximizing):\n",
        "    return [(i, j) for i in range(3) for j in range(3) if board[i][j] == ' ']\n",
        "\n",
        "def apply_move(board, move, player):\n",
        "    new_board = [row[:] for row in board]\n",
        "    new_board[move[0]][move[1]] = player\n",
        "    return new_board\n",
        "\n",
        "def minimax_ttt(board, is_maximizing):\n",
        "    if is_terminal(board):\n",
        "        return evaluate(board), None\n",
        "\n",
        "    best_move = None\n",
        "    if is_maximizing:\n",
        "        best_score = float('-inf')\n",
        "        for move in get_moves(board, True):\n",
        "            new_board = apply_move(board, move, 'X')\n",
        "            score, _ = minimax_ttt(new_board, False)\n",
        "            if score > best_score:\n",
        "                best_score = score\n",
        "                best_move = move\n",
        "        return best_score, best_move\n",
        "    else:\n",
        "        best_score = float('inf')\n",
        "        for move in get_moves(board, False):\n",
        "            new_board = apply_move(board, move, 'O')\n",
        "            score, _ = minimax_ttt(new_board, True)\n",
        "            if score < best_score:\n",
        "                best_score = score\n",
        "                best_move = move\n",
        "        return best_score, best_move\n",
        "\n",
        "# Example play\n",
        "board = [['X', 'O', 'X'],\n",
        "         ['X', ' ', 'O'],\n",
        "         [' ', ' ', 'O']]\n",
        "\n",
        "print(\"Initial Board:\")\n",
        "print_board(board)\n",
        "_, move = minimax_ttt(board, True)\n",
        "print(\"Best move for X:\", move)\n"
      ],
      "metadata": {
        "colab": {
          "base_uri": "https://localhost:8080/"
        },
        "id": "gwff9I9dwfzM",
        "outputId": "1cb12ca1-4c0c-4512-af5b-35cfd78e8f47"
      },
      "execution_count": 18,
      "outputs": [
        {
          "output_type": "stream",
          "name": "stdout",
          "text": [
            "Initial Board:\n",
            "X O X\n",
            "X   O\n",
            "    O\n",
            "\n",
            "Best move for X: (2, 0)\n"
          ]
        }
      ]
    },
    {
      "cell_type": "markdown",
      "source": [
        "# ✅ Step 4: Real-World Search Problem Implementations\n",
        "\n",
        "These problems test the practical use of search algorithms (BFS, DFS, UCS, A*, etc.) to solve real challenges.\n",
        "🔹 Problems Covered in This Step:\n",
        "\n",
        "    8-Puzzle Problem\n",
        "\n",
        "    Missionaries and Cannibals Problem\n",
        "\n",
        "    Water Jug Problem\n",
        "\n",
        "    Traveling Salesman Problem (TSP)\n",
        "\n",
        "    Robot Path Planning (Grid)\n",
        "\n",
        "We'll start with the 8-Puzzle Problem. **bold text**"
      ],
      "metadata": {
        "id": "awp7sRcTwrSI"
      }
    },
    {
      "cell_type": "markdown",
      "source": [
        "🧩 1. 8-Puzzle Problem (Using A*, BFS, DFS)"
      ],
      "metadata": {
        "id": "KHcjhlD-wwt1"
      }
    },
    {
      "cell_type": "code",
      "source": [
        "import heapq\n",
        "\n",
        "GOAL_STATE = [[1, 2, 3], [4, 5, 6], [7, 8, 0]]\n",
        "\n",
        "# Heuristic: Manhattan Distance\n",
        "def manhattan_distance(state):\n",
        "    distance = 0\n",
        "    for i in range(3):\n",
        "        for j in range(3):\n",
        "            value = state[i][j]\n",
        "            if value != 0:\n",
        "                goal_i, goal_j = divmod(value - 1, 3)\n",
        "                distance += abs(i - goal_i) + abs(j - goal_j)\n",
        "    return distance\n",
        "\n",
        "# Find position of 0 (blank)\n",
        "def find_blank(state):\n",
        "    for i in range(3):\n",
        "        for j in range(3):\n",
        "            if state[i][j] == 0:\n",
        "                return i, j\n",
        "\n",
        "# Get neighbors (move blank up/down/left/right)\n",
        "def get_neighbors(state):\n",
        "    neighbors = []\n",
        "    i, j = find_blank(state)\n",
        "    directions = [(-1, 0), (1, 0), (0, -1), (0, 1)]  # up, down, left, right\n",
        "    for di, dj in directions:\n",
        "        new_i, new_j = i + di, j + dj\n",
        "        if 0 <= new_i < 3 and 0 <= new_j < 3:\n",
        "            new_state = [row[:] for row in state]\n",
        "            new_state[i][j], new_state[new_i][new_j] = new_state[new_i][new_j], new_state[i][j]\n",
        "            neighbors.append(new_state)\n",
        "    return neighbors\n",
        "\n",
        "# Convert state to tuple for hashing\n",
        "def state_to_tuple(state):\n",
        "    return tuple(tuple(row) for row in state)\n",
        "\n",
        "# A* Search\n",
        "def a_star(start_state):\n",
        "    pq = []\n",
        "    heapq.heappush(pq, (manhattan_distance(start_state), 0, start_state, []))\n",
        "    visited = set()\n",
        "\n",
        "    while pq:\n",
        "        est_total_cost, cost, state, path = heapq.heappop(pq)\n",
        "        if state == GOAL_STATE:\n",
        "            return path + [state]\n",
        "        state_key = state_to_tuple(state)\n",
        "        if state_key in visited:\n",
        "            continue\n",
        "        visited.add(state_key)\n",
        "\n",
        "        for neighbor in get_neighbors(state):\n",
        "            heapq.heappush(pq, (cost + 1 + manhattan_distance(neighbor), cost + 1, neighbor, path + [state]))\n",
        "\n",
        "    return None\n",
        "\n",
        "# Print solution path\n",
        "def print_solution(solution):\n",
        "    for step, state in enumerate(solution):\n",
        "        print(f\"Step {step}:\")\n",
        "        for row in state:\n",
        "            print(row)\n",
        "        print()\n",
        "\n",
        "# Example\n",
        "start = [[1, 2, 3], [5, 0, 6], [4, 7, 8]]\n",
        "solution = a_star(start)\n",
        "if solution:\n",
        "    print_solution(solution)\n",
        "else:\n",
        "    print(\"No solution found.\")\n"
      ],
      "metadata": {
        "colab": {
          "base_uri": "https://localhost:8080/"
        },
        "id": "P9YjBT0DwkuT",
        "outputId": "bdba3b05-e776-4f18-9bf0-e17cc07821e4"
      },
      "execution_count": 19,
      "outputs": [
        {
          "output_type": "stream",
          "name": "stdout",
          "text": [
            "Step 0:\n",
            "[1, 2, 3]\n",
            "[5, 0, 6]\n",
            "[4, 7, 8]\n",
            "\n",
            "Step 1:\n",
            "[1, 2, 3]\n",
            "[0, 5, 6]\n",
            "[4, 7, 8]\n",
            "\n",
            "Step 2:\n",
            "[1, 2, 3]\n",
            "[4, 5, 6]\n",
            "[0, 7, 8]\n",
            "\n",
            "Step 3:\n",
            "[1, 2, 3]\n",
            "[4, 5, 6]\n",
            "[7, 0, 8]\n",
            "\n",
            "Step 4:\n",
            "[1, 2, 3]\n",
            "[4, 5, 6]\n",
            "[7, 8, 0]\n",
            "\n"
          ]
        }
      ]
    },
    {
      "cell_type": "markdown",
      "source": [
        "🧭 2. Missionaries and Cannibals Problem (Using BFS)\n",
        "🎯 Problem Statement:\n",
        "\n",
        "    3 Missionaries and 3 Cannibals are on the left bank of a river.\n",
        "\n",
        "    A boat can carry at most 2 people at a time.\n",
        "\n",
        "    You cannot leave more Cannibals than Missionaries on either side (or the Missionaries get eaten).\n",
        "\n",
        "    Goal: Move everyone safely to the right bank."
      ],
      "metadata": {
        "id": "G7F5PVoSw9EU"
      }
    },
    {
      "cell_type": "code",
      "source": [
        "from collections import deque\n",
        "\n",
        "# State: (ML, CL, MR, CR, boat_pos)\n",
        "# M = Missionaries, C = Cannibals, L = Left, R = Right\n",
        "\n",
        "def is_valid_state(state):\n",
        "    ML, CL, MR, CR, _ = state\n",
        "    if (ML < 0 or CL < 0 or MR < 0 or CR < 0):\n",
        "        return False\n",
        "    if (ML > 0 and ML < CL):\n",
        "        return False\n",
        "    if (MR > 0 and MR < CR):\n",
        "        return False\n",
        "    return True\n",
        "\n",
        "def get_successors(state):\n",
        "    ML, CL, MR, CR, boat = state\n",
        "    moves = [(1,0), (2,0), (0,1), (0,2), (1,1)]  # Possible combinations of people in boat\n",
        "    successors = []\n",
        "\n",
        "    for m, c in moves:\n",
        "        if boat == 0:  # Boat on left bank\n",
        "            new_state = (ML - m, CL - c, MR + m, CR + c, 1)\n",
        "        else:  # Boat on right bank\n",
        "            new_state = (ML + m, CL + c, MR - m, CR - c, 0)\n",
        "\n",
        "        if is_valid_state(new_state):\n",
        "            successors.append(new_state)\n",
        "    return successors\n",
        "\n",
        "def bfs(start, goal):\n",
        "    visited = set()\n",
        "    queue = deque([(start, [start])])\n",
        "\n",
        "    while queue:\n",
        "        state, path = queue.popleft()\n",
        "        if state in visited:\n",
        "            continue\n",
        "        visited.add(state)\n",
        "        if state == goal:\n",
        "            return path\n",
        "        for neighbor in get_successors(state):\n",
        "            if neighbor not in visited:\n",
        "                queue.append((neighbor, path + [neighbor]))\n",
        "    return None\n",
        "\n",
        "# Initial and Goal states\n",
        "start_state = (3, 3, 0, 0, 0)  # (ML, CL, MR, CR, Boat)\n",
        "goal_state = (0, 0, 3, 3, 1)\n",
        "\n",
        "solution = bfs(start_state, goal_state)\n",
        "\n",
        "# Print path\n",
        "if solution:\n",
        "    print(\"Solution Path:\")\n",
        "    for step, s in enumerate(solution):\n",
        "        print(f\"Step {step}: ML={s[0]}, CL={s[1]}, MR={s[2]}, CR={s[3]}, Boat={'Right' if s[4]==1 else 'Left'}\")\n",
        "else:\n",
        "    print(\"No solution found.\")\n"
      ],
      "metadata": {
        "colab": {
          "base_uri": "https://localhost:8080/"
        },
        "id": "wCKuCBmDw361",
        "outputId": "82c73e45-a67e-4758-cd9c-b4998af7be5b"
      },
      "execution_count": 20,
      "outputs": [
        {
          "output_type": "stream",
          "name": "stdout",
          "text": [
            "Solution Path:\n",
            "Step 0: ML=3, CL=3, MR=0, CR=0, Boat=Left\n",
            "Step 1: ML=3, CL=1, MR=0, CR=2, Boat=Right\n",
            "Step 2: ML=3, CL=2, MR=0, CR=1, Boat=Left\n",
            "Step 3: ML=3, CL=0, MR=0, CR=3, Boat=Right\n",
            "Step 4: ML=3, CL=1, MR=0, CR=2, Boat=Left\n",
            "Step 5: ML=1, CL=1, MR=2, CR=2, Boat=Right\n",
            "Step 6: ML=2, CL=2, MR=1, CR=1, Boat=Left\n",
            "Step 7: ML=0, CL=2, MR=3, CR=1, Boat=Right\n",
            "Step 8: ML=0, CL=3, MR=3, CR=0, Boat=Left\n",
            "Step 9: ML=0, CL=1, MR=3, CR=2, Boat=Right\n",
            "Step 10: ML=1, CL=1, MR=2, CR=2, Boat=Left\n",
            "Step 11: ML=0, CL=0, MR=3, CR=3, Boat=Right\n"
          ]
        }
      ]
    },
    {
      "cell_type": "markdown",
      "source": [
        " 3. Water Jug Problem (Using BFS)\n",
        "🎯 Problem Statement:\n",
        "\n",
        "You are given two jugs with capacities:\n",
        "\n",
        "    Jug A: 4 liters\n",
        "\n",
        "    Jug B: 3 liters\n",
        "\n",
        "Goal: Measure exactly 2 liters in Jug A or Jug B using these operations:\n",
        "\n",
        "    Fill any jug.\n",
        "\n",
        "    Empty any jug.\n",
        "\n",
        "    Pour water from one jug to another."
      ],
      "metadata": {
        "id": "PIaOg8XRxFmP"
      }
    },
    {
      "cell_type": "code",
      "source": [
        "from collections import deque\n",
        "\n",
        "# Jug capacities\n",
        "A_CAPACITY = 4\n",
        "B_CAPACITY = 3\n",
        "GOAL = 2\n",
        "\n",
        "def is_goal(state):\n",
        "    return state[0] == GOAL or state[1] == GOAL\n",
        "\n",
        "def get_successors(state):\n",
        "    A, B = state\n",
        "    successors = set()\n",
        "\n",
        "    # Fill A or B\n",
        "    successors.add((A_CAPACITY, B))     # Fill A\n",
        "    successors.add((A, B_CAPACITY))     # Fill B\n",
        "\n",
        "    # Empty A or B\n",
        "    successors.add((0, B))              # Empty A\n",
        "    successors.add((A, 0))              # Empty B\n",
        "\n",
        "    # Pour A → B\n",
        "    transfer = min(A, B_CAPACITY - B)\n",
        "    successors.add((A - transfer, B + transfer))\n",
        "\n",
        "    # Pour B → A\n",
        "    transfer = min(B, A_CAPACITY - A)\n",
        "    successors.add((A + transfer, B - transfer))\n",
        "\n",
        "    return successors\n",
        "\n",
        "def bfs(start_state):\n",
        "    visited = set()\n",
        "    queue = deque([(start_state, [start_state])])\n",
        "\n",
        "    while queue:\n",
        "        state, path = queue.popleft()\n",
        "        if state in visited:\n",
        "            continue\n",
        "        visited.add(state)\n",
        "\n",
        "        if is_goal(state):\n",
        "            return path\n",
        "\n",
        "        for next_state in get_successors(state):\n",
        "            if next_state not in visited:\n",
        "                queue.append((next_state, path + [next_state]))\n",
        "    return None\n",
        "\n",
        "# Initial state (both jugs empty)\n",
        "start_state = (0, 0)\n",
        "\n",
        "# Run BFS\n",
        "solution = bfs(start_state)\n",
        "\n",
        "# Print result\n",
        "if solution:\n",
        "    print(\"Solution Path:\")\n",
        "    for step, state in enumerate(solution):\n",
        "        print(f\"Step {step}: Jug A = {state[0]} L, Jug B = {state[1]} L\")\n",
        "else:\n",
        "    print(\"No solution found.\")\n"
      ],
      "metadata": {
        "colab": {
          "base_uri": "https://localhost:8080/"
        },
        "id": "RN6GnbZhxAvN",
        "outputId": "24fc94db-d2a3-4807-9b9a-4b4e26710dbb"
      },
      "execution_count": 21,
      "outputs": [
        {
          "output_type": "stream",
          "name": "stdout",
          "text": [
            "Solution Path:\n",
            "Step 0: Jug A = 0 L, Jug B = 0 L\n",
            "Step 1: Jug A = 0 L, Jug B = 3 L\n",
            "Step 2: Jug A = 3 L, Jug B = 0 L\n",
            "Step 3: Jug A = 3 L, Jug B = 3 L\n",
            "Step 4: Jug A = 4 L, Jug B = 2 L\n"
          ]
        }
      ]
    },
    {
      "cell_type": "markdown",
      "source": [
        "🗺️ 4. Traveling Salesman Problem (TSP) using Genetic Algorithm (GA)\n",
        "🎯 Problem Statement:\n",
        "\n",
        "Given N cities and the distances between each pair of cities, find the shortest possible route that visits each city exactly once and returns to the origin city.\n",
        "✅ Approach: Use a Genetic Algorithm\n",
        "Core Concepts:\n",
        "\n",
        "    Chromosome = A path (city permutation)\n",
        "\n",
        "    Fitness = Inverse of path distance\n",
        "\n",
        "    Operators:\n",
        "\n",
        "        Selection (Tournament)\n",
        "\n",
        "        Crossover (Ordered Crossover - OX)\n",
        "\n",
        "        Mutation (Swap mutation)\n",
        "\n"
      ],
      "metadata": {
        "id": "2oogXylQxNMf"
      }
    },
    {
      "cell_type": "code",
      "source": [
        "import random\n",
        "import numpy as np\n",
        "\n",
        "# ----- Step 1: Create a distance matrix -----\n",
        "def create_distance_matrix(n_cities):\n",
        "    matrix = np.random.randint(10, 100, size=(n_cities, n_cities))\n",
        "    np.fill_diagonal(matrix, 0)\n",
        "    return matrix\n",
        "\n",
        "# ----- Step 2: Calculate route distance -----\n",
        "def route_distance(route, dist_matrix):\n",
        "    distance = 0\n",
        "    for i in range(len(route)):\n",
        "        distance += dist_matrix[route[i - 1]][route[i]]\n",
        "    return distance\n",
        "\n",
        "# ----- Step 3: Fitness function -----\n",
        "def fitness(route, dist_matrix):\n",
        "    return 1 / route_distance(route, dist_matrix)\n",
        "\n",
        "# ----- Step 4: Selection -----\n",
        "def tournament_selection(population, fitnesses, k=3):\n",
        "    selected = random.sample(list(zip(population, fitnesses)), k)\n",
        "    return max(selected, key=lambda x: x[1])[0]\n",
        "\n",
        "# ----- Step 5: Crossover (Order Crossover) -----\n",
        "def crossover(parent1, parent2):\n",
        "    size = len(parent1)\n",
        "    start, end = sorted(random.sample(range(size), 2))\n",
        "    child = [-1]*size\n",
        "    child[start:end] = parent1[start:end]\n",
        "    fill = [item for item in parent2 if item not in child]\n",
        "    idx = 0\n",
        "    for i in range(size):\n",
        "        if child[i] == -1:\n",
        "            child[i] = fill[idx]\n",
        "            idx += 1\n",
        "    return child\n",
        "\n",
        "# ----- Step 6: Mutation (swap mutation) -----\n",
        "def mutate(route, mutation_rate=0.01):\n",
        "    for i in range(len(route)):\n",
        "        if random.random() < mutation_rate:\n",
        "            j = random.randint(0, len(route) - 1)\n",
        "            route[i], route[j] = route[j], route[i]\n",
        "    return route\n",
        "\n",
        "# ----- Step 7: Main GA Loop -----\n",
        "def genetic_algorithm_tsp(n_cities=6, population_size=100, generations=500):\n",
        "    dist_matrix = create_distance_matrix(n_cities)\n",
        "    cities = list(range(n_cities))\n",
        "    population = [random.sample(cities, n_cities) for _ in range(population_size)]\n",
        "\n",
        "    for gen in range(generations):\n",
        "        fitnesses = [fitness(ind, dist_matrix) for ind in population]\n",
        "        new_population = []\n",
        "        for _ in range(population_size):\n",
        "            parent1 = tournament_selection(population, fitnesses)\n",
        "            parent2 = tournament_selection(population, fitnesses)\n",
        "            child = crossover(parent1, parent2)\n",
        "            child = mutate(child)\n",
        "            new_population.append(child)\n",
        "        population = new_population\n",
        "\n",
        "    # Get best route\n",
        "    fitnesses = [fitness(ind, dist_matrix) for ind in population]\n",
        "    best_route = population[np.argmax(fitnesses)]\n",
        "    best_distance = route_distance(best_route, dist_matrix)\n",
        "\n",
        "    print(\"Best Route:\", best_route)\n",
        "    print(\"Distance:\", best_distance)\n",
        "    print(\"Distance Matrix:\\n\", dist_matrix)\n",
        "\n",
        "# ----- Run the algorithm -----\n",
        "genetic_algorithm_tsp()\n"
      ],
      "metadata": {
        "colab": {
          "base_uri": "https://localhost:8080/"
        },
        "id": "xxJB7hH1xIfL",
        "outputId": "0ea45c1a-5082-428e-cdb0-a17e7074d38b"
      },
      "execution_count": 22,
      "outputs": [
        {
          "output_type": "stream",
          "name": "stdout",
          "text": [
            "Best Route: [3, 2, 1, 0, 4, 5]\n",
            "Distance: 145\n",
            "Distance Matrix:\n",
            " [[ 0 76 27 48 28 44]\n",
            " [25  0 61 62 92 88]\n",
            " [92 41  0 37 98 49]\n",
            " [28 68 13  0 95 49]\n",
            " [93 30 37 42  0 27]\n",
            " [57 63 55 11 52  0]]\n"
          ]
        }
      ]
    },
    {
      "cell_type": "markdown",
      "source": [
        "🤖 5. Robot Path Planning using A* Search on a 2D Grid\n",
        "🧠 Problem Statement:\n",
        "\n",
        "A robot is placed on a 2D grid. It must move from a start cell to a goal cell, avoiding obstacles. Each move has a cost of 1. We use A* Search for shortest pathfinding."
      ],
      "metadata": {
        "id": "ns69ZeKYxVL-"
      }
    },
    {
      "cell_type": "code",
      "source": [
        "import heapq\n",
        "\n",
        "# Define the 2D grid\n",
        "grid = [\n",
        "    [0, 1, 0, 0, 0],\n",
        "    [0, 1, 0, 1, 0],\n",
        "    [0, 0, 0, 1, 0],\n",
        "    [1, 1, 0, 0, 0],\n",
        "    [0, 0, 0, 1, 0]\n",
        "]\n",
        "\n",
        "rows, cols = len(grid), len(grid[0])\n",
        "start = (0, 0)\n",
        "goal = (4, 4)\n",
        "\n",
        "# Heuristic: Manhattan distance\n",
        "def heuristic(a, b):\n",
        "    return abs(a[0] - b[0]) + abs(a[1] - b[1])\n",
        "\n",
        "# A* Search\n",
        "def astar(grid, start, goal):\n",
        "    open_list = []\n",
        "    heapq.heappush(open_list, (0 + heuristic(start, goal), 0, start, [start]))\n",
        "    visited = set()\n",
        "\n",
        "    while open_list:\n",
        "        est_total_cost, cost_so_far, current, path = heapq.heappop(open_list)\n",
        "        if current in visited:\n",
        "            continue\n",
        "        visited.add(current)\n",
        "\n",
        "        if current == goal:\n",
        "            return path\n",
        "\n",
        "        x, y = current\n",
        "        for dx, dy in [(-1,0), (1,0), (0,-1), (0,1)]:\n",
        "            nx, ny = x + dx, y + dy\n",
        "            next_node = (nx, ny)\n",
        "            if 0 <= nx < rows and 0 <= ny < cols and grid[nx][ny] == 0:\n",
        "                if next_node not in visited:\n",
        "                    new_cost = cost_so_far + 1\n",
        "                    est_total = new_cost + heuristic(next_node, goal)\n",
        "                    heapq.heappush(open_list, (est_total, new_cost, next_node, path + [next_node]))\n",
        "    return None\n",
        "\n",
        "# Run A* Search\n",
        "path = astar(grid, start, goal)\n",
        "\n",
        "# Print the result\n",
        "if path:\n",
        "    print(\"Path found:\")\n",
        "    for step in path:\n",
        "        print(step)\n",
        "else:\n",
        "    print(\"No path found.\")\n"
      ],
      "metadata": {
        "colab": {
          "base_uri": "https://localhost:8080/"
        },
        "id": "N0ueBaEbxPmj",
        "outputId": "122ce5b2-8437-42a7-e149-27eb5d2fd3ac"
      },
      "execution_count": 23,
      "outputs": [
        {
          "output_type": "stream",
          "name": "stdout",
          "text": [
            "Path found:\n",
            "(0, 0)\n",
            "(1, 0)\n",
            "(2, 0)\n",
            "(2, 1)\n",
            "(2, 2)\n",
            "(3, 2)\n",
            "(3, 3)\n",
            "(3, 4)\n",
            "(4, 4)\n"
          ]
        }
      ]
    },
    {
      "cell_type": "markdown",
      "source": [
        "✅ Step 2: A* Search for 8-Puzzle\n",
        "\n",
        "A* Search uses both the cost so far and a heuristic to estimate the remaining cost.\n",
        "Heuristic: Manhattan Distance\n",
        "\n",
        "This is the sum of the absolute differences between the current position and goal position of each tile."
      ],
      "metadata": {
        "id": "PfbjhQTBxnMw"
      }
    },
    {
      "cell_type": "code",
      "source": [
        "import heapq\n",
        "import numpy as np\n",
        "\n",
        "# Goal state of the puzzle\n",
        "goal = (1, 2, 3, 4, 5, 6, 7, 8, 0)\n",
        "\n",
        "# Directions for moving tiles: up, down, left, right\n",
        "directions = [(-1, 0), (1, 0), (0, -1), (0, 1)]  # up, down, left, right\n",
        "\n",
        "# Get the index of tile in the goal state\n",
        "def goal_position(value):\n",
        "    return goal.index(value)\n",
        "\n",
        "# Manhattan Distance Heuristic\n",
        "def manhattan_distance(state):\n",
        "    distance = 0\n",
        "    for i, value in enumerate(state):\n",
        "        if value != 0:\n",
        "            target_pos = goal_position(value)\n",
        "            current_pos = i\n",
        "            target_row, target_col = target_pos // 3, target_pos % 3\n",
        "            current_row, current_col = current_pos // 3, current_pos % 3\n",
        "            distance += abs(target_row - current_row) + abs(target_col - current_col)\n",
        "    return distance\n",
        "\n",
        "# A* search\n",
        "def astar(start):\n",
        "    open_list = []\n",
        "    heapq.heappush(open_list, (manhattan_distance(start), 0, start, []))  # (f, g, state, path)\n",
        "    visited = set()\n",
        "    visited.add(start)\n",
        "\n",
        "    while open_list:\n",
        "        _, cost_so_far, state, path = heapq.heappop(open_list)\n",
        "\n",
        "        if state == goal:\n",
        "            return path + [state]\n",
        "\n",
        "        blank_pos = state.index(0)\n",
        "        blank_row, blank_col = blank_pos // 3, blank_pos % 3\n",
        "\n",
        "        for dr, dc in directions:\n",
        "            new_row, new_col = blank_row + dr, blank_col + dc\n",
        "            if 0 <= new_row < 3 and 0 <= new_col < 3:\n",
        "                new_blank_pos = new_row * 3 + new_col\n",
        "                new_state = list(state)\n",
        "                new_state[blank_pos], new_state[new_blank_pos] = new_state[new_blank_pos], new_state[blank_pos]\n",
        "                new_state = tuple(new_state)\n",
        "                if new_state not in visited:\n",
        "                    visited.add(new_state)\n",
        "                    heapq.heappush(open_list, (cost_so_far + 1 + manhattan_distance(new_state), cost_so_far + 1, new_state, path + [state]))\n",
        "    return None\n",
        "\n",
        "# Test A* with an initial state\n",
        "start_state = (1, 2, 3, 5, 4, 6, 7, 8, 0)\n",
        "path = astar(start_state)\n",
        "\n",
        "if path:\n",
        "    for step in path:\n",
        "        print(np.array(step).reshape(3, 3))\n",
        "else:\n",
        "    print(\"No solution found.\")\n"
      ],
      "metadata": {
        "colab": {
          "base_uri": "https://localhost:8080/"
        },
        "id": "ocX6RfjcxYIr",
        "outputId": "5ff2ca85-0971-4e27-b76a-68cc6b27577f"
      },
      "execution_count": 24,
      "outputs": [
        {
          "output_type": "stream",
          "name": "stdout",
          "text": [
            "No solution found.\n"
          ]
        }
      ]
    },
    {
      "cell_type": "code",
      "source": [],
      "metadata": {
        "id": "8FxCa4QCxqoF"
      },
      "execution_count": null,
      "outputs": []
    }
  ]
}