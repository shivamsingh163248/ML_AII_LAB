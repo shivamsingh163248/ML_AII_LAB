{
  "nbformat": 4,
  "nbformat_minor": 0,
  "metadata": {
    "colab": {
      "provenance": [],
      "authorship_tag": "ABX9TyMd+iM3MndAv4QoXPimiF3q",
      "include_colab_link": true
    },
    "kernelspec": {
      "name": "python3",
      "display_name": "Python 3"
    },
    "language_info": {
      "name": "python"
    }
  },
  "cells": [
    {
      "cell_type": "markdown",
      "metadata": {
        "id": "view-in-github",
        "colab_type": "text"
      },
      "source": [
        "<a href=\"https://colab.research.google.com/github/shivamsingh163248/ML_AII_LAB/blob/main/AII/LAB_3_Informed_Search_Techniques_(Heuristic_Based_Search).ipynb\" target=\"_parent\"><img src=\"https://colab.research.google.com/assets/colab-badge.svg\" alt=\"Open In Colab\"/></a>"
      ]
    },
    {
      "cell_type": "markdown",
      "source": [
        "🔹 PART 1: Theory\n",
        "\n",
        "What is Informed Search?\n",
        "\n",
        "    Informed search uses extra knowledge (heuristics) to make searching faster and smarter.\n",
        "\n",
        "    It estimates how far a state is from the goal.\n",
        "\n",
        "    Example algorithms: Greedy Best-First Search, A* (A-star) Search.\n",
        "\n",
        "What is a Heuristic?\n",
        "\n",
        "    A heuristic is a function h(n) that estimates the cost from a node n to the goal.\n",
        "\n",
        "    Example: \"Manhattan Distance\" in grids.\n",
        "\n",
        "🔹 PART 2: Problems: Vacuum World and Maze Problem\n",
        "🧹 VACUUM WORLD PROBLEM (Informed Search)\n",
        "\n",
        "Problem Description:\n",
        "\n",
        "    A robot can move left or right and clean.\n",
        "\n",
        "    Goal: Clean all dirty tiles."
      ],
      "metadata": {
        "id": "FrZM5SVfREb-"
      }
    },
    {
      "cell_type": "markdown",
      "source": [
        "# 1. Vacuum World using A* Search (with heuristics)"
      ],
      "metadata": {
        "id": "3-WpkjlkRJnt"
      }
    },
    {
      "cell_type": "code",
      "execution_count": 1,
      "metadata": {
        "colab": {
          "base_uri": "https://localhost:8080/"
        },
        "id": "fQW9a5XTQ9dJ",
        "outputId": "a521e11f-0efa-4d14-b6c3-a5efc585d253"
      },
      "outputs": [
        {
          "output_type": "stream",
          "name": "stdout",
          "text": [
            "Reached goal!\n",
            "Total cost (steps): 3\n"
          ]
        }
      ],
      "source": [
        "import heapq\n",
        "\n",
        "class VacuumWorld:\n",
        "    def __init__(self, state, cost=0):\n",
        "        self.state = state  # [left_tile, right_tile, robot_position]\n",
        "        self.cost = cost\n",
        "\n",
        "    def is_goal(self):\n",
        "        return self.state[0] == 'clean' and self.state[1] == 'clean'\n",
        "\n",
        "    def successors(self):\n",
        "        actions = []\n",
        "        left, right, pos = self.state\n",
        "\n",
        "        # Move left\n",
        "        if pos == 'right':\n",
        "            actions.append(VacuumWorld([left, right, 'left'], self.cost + 1))\n",
        "\n",
        "        # Move right\n",
        "        if pos == 'left':\n",
        "            actions.append(VacuumWorld([left, right, 'right'], self.cost + 1))\n",
        "\n",
        "        # Clean current tile\n",
        "        if pos == 'left' and left == 'dirty':\n",
        "            actions.append(VacuumWorld(['clean', right, pos], self.cost + 1))\n",
        "        if pos == 'right' and right == 'dirty':\n",
        "            actions.append(VacuumWorld([left, 'clean', pos], self.cost + 1))\n",
        "\n",
        "        return actions\n",
        "\n",
        "    def heuristic(self):\n",
        "        left, right, _ = self.state\n",
        "        return (left == 'dirty') + (right == 'dirty')\n",
        "\n",
        "    def __lt__(self, other):\n",
        "        return (self.cost + self.heuristic()) < (other.cost + other.heuristic())\n",
        "\n",
        "def a_star_vacuum(start_state):\n",
        "    open_list = []\n",
        "    heapq.heappush(open_list, start_state)\n",
        "    visited = set()\n",
        "\n",
        "    while open_list:\n",
        "        current = heapq.heappop(open_list)\n",
        "\n",
        "        if tuple(current.state) in visited:\n",
        "            continue\n",
        "\n",
        "        visited.add(tuple(current.state))\n",
        "\n",
        "        if current.is_goal():\n",
        "            return current\n",
        "\n",
        "        for successor in current.successors():\n",
        "            heapq.heappush(open_list, successor)\n",
        "\n",
        "    return None\n",
        "\n",
        "# Initial State: Left = dirty, Right = dirty, Robot on left\n",
        "start = VacuumWorld(['dirty', 'dirty', 'left'])\n",
        "\n",
        "result = a_star_vacuum(start)\n",
        "if result:\n",
        "    print(\"Reached goal!\")\n",
        "    print(\"Total cost (steps):\", result.cost)\n",
        "else:\n",
        "    print(\"No solution found.\")\n"
      ]
    },
    {
      "cell_type": "markdown",
      "source": [
        "# 🧩 MAZE PROBLEM (Informed Search)\n",
        "\n",
        "Problem Description:\n",
        "\n",
        "    Find the shortest path from start to goal in a maze/grid.\n",
        "\n",
        "    Heuristic: Manhattan distance (rows + columns difference).\n",
        "\n",
        "## 2. Maze Solver using A* Search"
      ],
      "metadata": {
        "id": "UPhkoQ5JRSe0"
      }
    },
    {
      "cell_type": "code",
      "source": [
        "import heapq\n",
        "\n",
        "def manhattan_distance(a, b):\n",
        "    return abs(a[0] - b[0]) + abs(a[1] - b[1])\n",
        "\n",
        "def astar_maze(maze, start, goal):\n",
        "    rows, cols = len(maze), len(maze[0])\n",
        "    open_list = [(0 + manhattan_distance(start, goal), 0, start, [])]  # (f, g, position, path)\n",
        "    visited = set()\n",
        "\n",
        "    while open_list:\n",
        "        f, g, current, path = heapq.heappop(open_list)\n",
        "\n",
        "        if current == goal:\n",
        "            return path + [current]\n",
        "\n",
        "        if current in visited:\n",
        "            continue\n",
        "\n",
        "        visited.add(current)\n",
        "\n",
        "        x, y = current\n",
        "        neighbors = [(x-1, y), (x+1, y), (x, y-1), (x, y+1)]  # up, down, left, right\n",
        "\n",
        "        for nx, ny in neighbors:\n",
        "            if 0 <= nx < rows and 0 <= ny < cols and maze[nx][ny] != 1:  # 1 = wall\n",
        "                new_path = path + [current]\n",
        "                heapq.heappush(open_list, (g + 1 + manhattan_distance((nx, ny), goal), g + 1, (nx, ny), new_path))\n",
        "\n",
        "    return None\n",
        "\n",
        "# 0 = Free path, 1 = Wall\n",
        "maze = [\n",
        "    [0, 1, 0, 0, 0],\n",
        "    [0, 1, 0, 1, 0],\n",
        "    [0, 0, 0, 1, 0],\n",
        "    [1, 1, 0, 0, 0]\n",
        "]\n",
        "\n",
        "start = (0, 0)\n",
        "goal = (3, 4)\n",
        "\n",
        "path = astar_maze(maze, start, goal)\n",
        "print(\"Path found:\", path)\n"
      ],
      "metadata": {
        "colab": {
          "base_uri": "https://localhost:8080/"
        },
        "id": "QkY0oqePRNlh",
        "outputId": "4edd850c-461d-40ef-8ae5-8e0f681ae2fd"
      },
      "execution_count": 2,
      "outputs": [
        {
          "output_type": "stream",
          "name": "stdout",
          "text": [
            "Path found: [(0, 0), (1, 0), (2, 0), (2, 1), (2, 2), (3, 2), (3, 3), (3, 4)]\n"
          ]
        }
      ]
    },
    {
      "cell_type": "code",
      "source": [],
      "metadata": {
        "id": "bJeisdvQRX2w"
      },
      "execution_count": null,
      "outputs": []
    }
  ]
}