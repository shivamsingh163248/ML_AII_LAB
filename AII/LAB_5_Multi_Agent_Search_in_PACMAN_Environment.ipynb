{
  "nbformat": 4,
  "nbformat_minor": 0,
  "metadata": {
    "colab": {
      "provenance": [],
      "authorship_tag": "ABX9TyOlMwSxITdsI8C5gZKIs1a1",
      "include_colab_link": true
    },
    "kernelspec": {
      "name": "python3",
      "display_name": "Python 3"
    },
    "language_info": {
      "name": "python"
    }
  },
  "cells": [
    {
      "cell_type": "markdown",
      "metadata": {
        "id": "view-in-github",
        "colab_type": "text"
      },
      "source": [
        "<a href=\"https://colab.research.google.com/github/shivamsingh163248/ML_AII_LAB/blob/main/AII/LAB_5_Multi_Agent_Search_in_PACMAN_Environment.ipynb\" target=\"_parent\"><img src=\"https://colab.research.google.com/assets/colab-badge.svg\" alt=\"Open In Colab\"/></a>"
      ]
    },
    {
      "cell_type": "markdown",
      "source": [
        "# 📚 LAB 5: Multi-Agent Search in PACMAN Environment\n",
        "🔸 PART 1: What is Multi-Agent Search?\n",
        "\n",
        "In this scenario:\n",
        "\n",
        "    PACMAN = agent trying to reach a goal (e.g., food).\n",
        "\n",
        "    GHOSTS = adversarial agents trying to catch PACMAN.\n",
        "\n",
        "    Each agent (Pacman, Ghosts) makes decisions to optimize its own outcome.\n",
        "\n",
        "🔸 PART 2: Game Representation\n",
        "\n",
        "    Grid: 2D maze with walls, Pacman, and ghosts.\n",
        "\n",
        "    Pacman uses minimax or expectimax to plan moves.\n",
        "\n",
        "    Ghosts can be deterministic or random."
      ],
      "metadata": {
        "id": "3m7TBC4-TYUp"
      }
    },
    {
      "cell_type": "code",
      "execution_count": 1,
      "metadata": {
        "id": "a02Z_wB4TP0I"
      },
      "outputs": [],
      "source": [
        "import random\n",
        "\n",
        "# 0 = free path, 1 = wall\n",
        "maze = [\n",
        "    [0, 0, 0, 1, 0],\n",
        "    [1, 1, 0, 1, 0],\n",
        "    [0, 0, 0, 0, 0],\n",
        "    [0, 1, 1, 1, 0],\n",
        "    [0, 0, 0, 0, 0]\n",
        "]\n",
        "\n",
        "pacman_start = (0, 0)\n",
        "ghost_start = (4, 4)\n",
        "goal = (2, 4)\n"
      ]
    },
    {
      "cell_type": "code",
      "source": [
        "def get_neighbors(pos, maze):\n",
        "    x, y = pos\n",
        "    neighbors = []\n",
        "    for dx, dy in [(-1,0), (1,0), (0,-1), (0,1)]:\n",
        "        nx, ny = x+dx, y+dy\n",
        "        if 0 <= nx < len(maze) and 0 <= ny < len(maze[0]) and maze[nx][ny] == 0:\n",
        "            neighbors.append((nx, ny))\n",
        "    return neighbors\n"
      ],
      "metadata": {
        "id": "j4SNDB74Tdee"
      },
      "execution_count": 2,
      "outputs": []
    },
    {
      "cell_type": "code",
      "source": [
        "def multi_agent_game(pacman_pos, ghost_pos, goal, maze, max_steps=20):\n",
        "    path = [pacman_pos]\n",
        "    for step in range(max_steps):\n",
        "        # Pacman moves using greedy (toward goal)\n",
        "        pac_neighbors = get_neighbors(pacman_pos, maze)\n",
        "        pacman_pos = min(pac_neighbors, key=lambda n: abs(n[0]-goal[0]) + abs(n[1]-goal[1]))\n",
        "\n",
        "        # Ghost moves randomly\n",
        "        ghost_neighbors = get_neighbors(ghost_pos, maze)\n",
        "        if ghost_neighbors:\n",
        "            ghost_pos = random.choice(ghost_neighbors)\n",
        "\n",
        "        path.append(pacman_pos)\n",
        "\n",
        "        print(f\"Step {step+1}: Pacman -> {pacman_pos}, Ghost -> {ghost_pos}\")\n",
        "\n",
        "        if pacman_pos == ghost_pos:\n",
        "            print(\"💀 Pacman caught by ghost!\")\n",
        "            return path\n",
        "\n",
        "        if pacman_pos == goal:\n",
        "            print(\"🎯 Pacman reached goal safely!\")\n",
        "            return path\n",
        "    return path\n"
      ],
      "metadata": {
        "id": "k1DLzj4NTgRu"
      },
      "execution_count": 3,
      "outputs": []
    },
    {
      "cell_type": "code",
      "source": [
        "path_taken = multi_agent_game(pacman_start, ghost_start, goal, maze)\n",
        "print(\"Path:\", path_taken)\n"
      ],
      "metadata": {
        "colab": {
          "base_uri": "https://localhost:8080/"
        },
        "id": "7uNzQK1vTjTH",
        "outputId": "d0f609fa-344f-4811-9880-2c16c7150d2b"
      },
      "execution_count": 4,
      "outputs": [
        {
          "output_type": "stream",
          "name": "stdout",
          "text": [
            "Step 1: Pacman -> (0, 1), Ghost -> (3, 4)\n",
            "Step 2: Pacman -> (0, 2), Ghost -> (2, 4)\n",
            "Step 3: Pacman -> (1, 2), Ghost -> (1, 4)\n",
            "Step 4: Pacman -> (2, 2), Ghost -> (0, 4)\n",
            "Step 5: Pacman -> (2, 3), Ghost -> (1, 4)\n",
            "Step 6: Pacman -> (2, 4), Ghost -> (0, 4)\n",
            "🎯 Pacman reached goal safely!\n",
            "Path: [(0, 0), (0, 1), (0, 2), (1, 2), (2, 2), (2, 3), (2, 4)]\n"
          ]
        }
      ]
    },
    {
      "cell_type": "code",
      "source": [],
      "metadata": {
        "id": "UEmnY98XTn7t"
      },
      "execution_count": null,
      "outputs": []
    }
  ]
}