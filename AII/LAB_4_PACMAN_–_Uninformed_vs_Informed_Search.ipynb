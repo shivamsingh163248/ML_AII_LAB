{
  "nbformat": 4,
  "nbformat_minor": 0,
  "metadata": {
    "colab": {
      "provenance": [],
      "authorship_tag": "ABX9TyOKDWfBd1IX3DouclNDQnHA",
      "include_colab_link": true
    },
    "kernelspec": {
      "name": "python3",
      "display_name": "Python 3"
    },
    "language_info": {
      "name": "python"
    }
  },
  "cells": [
    {
      "cell_type": "markdown",
      "metadata": {
        "id": "view-in-github",
        "colab_type": "text"
      },
      "source": [
        "<a href=\"https://colab.research.google.com/github/shivamsingh163248/ML_AII_LAB/blob/main/AII/LAB_4_PACMAN_%E2%80%93_Uninformed_vs_Informed_Search.ipynb\" target=\"_parent\"><img src=\"https://colab.research.google.com/assets/colab-badge.svg\" alt=\"Open In Colab\"/></a>"
      ]
    },
    {
      "cell_type": "markdown",
      "source": [
        "🔹 PART 1: Problem Overview\n",
        "\n",
        "PACMAN World is a grid-based environment where:\n",
        "\n",
        "    Pacman starts at a location.\n",
        "\n",
        "    He must reach the goal (food).\n",
        "\n",
        "    Obstacles (walls) block the path.\n",
        "\n",
        "🔹 PART 2: Search Techniques\n",
        "✅ Uninformed Search (No Heuristic):\n",
        "\n",
        "    Breadth-First Search (BFS)\n",
        "\n",
        "    Depth-First Search (DFS)\n",
        "\n",
        "✅ Informed Search (With Heuristic):\n",
        "\n",
        "    Greedy Best-First Search\n",
        "\n",
        "    A* (A-star) Search"
      ],
      "metadata": {
        "id": "sKHINFtCR-P8"
      }
    },
    {
      "cell_type": "code",
      "execution_count": 3,
      "metadata": {
        "id": "M8bGalm3RmBA"
      },
      "outputs": [],
      "source": [
        "# 0 = free path, 1 = wall\n",
        "pacman_maze = [\n",
        "    [0, 0, 0, 1, 0],\n",
        "    [1, 1, 0, 1, 0],\n",
        "    [0, 0, 0, 0, 0],\n",
        "    [0, 1, 1, 1, 0],\n",
        "    [0, 0, 0, 0, 0]\n",
        "]\n",
        "\n",
        "start = (0, 0)\n",
        "goal = (4, 4)\n"
      ]
    },
    {
      "cell_type": "markdown",
      "source": [
        "# PART 4: Breadth-First Search (Uninformed)"
      ],
      "metadata": {
        "id": "7wbQwuLOSIu7"
      }
    },
    {
      "cell_type": "code",
      "source": [
        "from collections import deque\n",
        "\n",
        "def bfs_pacman(maze, start, goal):\n",
        "    rows, cols = len(maze), len(maze[0])\n",
        "    visited = set()\n",
        "    queue = deque([(start, [start])])\n",
        "\n",
        "    while queue:\n",
        "        current, path = queue.popleft()\n",
        "        if current == goal:\n",
        "            return path\n",
        "\n",
        "        if current in visited:\n",
        "            continue\n",
        "        visited.add(current)\n",
        "\n",
        "        x, y = current\n",
        "        for dx, dy in [(-1,0), (1,0), (0,-1), (0,1)]:\n",
        "            nx, ny = x+dx, y+dy\n",
        "            if 0 <= nx < rows and 0 <= ny < cols and maze[nx][ny] == 0:\n",
        "                queue.append(((nx, ny), path + [(nx, ny)]))\n",
        "\n",
        "    return None\n",
        "\n",
        "bfs_path = bfs_pacman(pacman_maze, start, goal)\n",
        "print(\"BFS Path:\", bfs_path)\n"
      ],
      "metadata": {
        "colab": {
          "base_uri": "https://localhost:8080/"
        },
        "id": "rJl7C6e6SBwP",
        "outputId": "9bd9bc86-f100-43a7-83b4-44307f5816ff"
      },
      "execution_count": 4,
      "outputs": [
        {
          "output_type": "stream",
          "name": "stdout",
          "text": [
            "BFS Path: [(0, 0), (0, 1), (0, 2), (1, 2), (2, 2), (2, 3), (2, 4), (3, 4), (4, 4)]\n"
          ]
        }
      ]
    },
    {
      "cell_type": "markdown",
      "source": [
        "# PART 5: A* Search (Informed)"
      ],
      "metadata": {
        "id": "v0Yic_VRSO6n"
      }
    },
    {
      "cell_type": "code",
      "source": [
        "import heapq\n",
        "\n",
        "def manhattan(a, b):\n",
        "    return abs(a[0] - b[0]) + abs(a[1] - b[1])\n",
        "\n",
        "def astar_pacman(maze, start, goal):\n",
        "    rows, cols = len(maze), len(maze[0])\n",
        "    open_list = [(manhattan(start, goal), 0, start, [start])]\n",
        "    visited = set()\n",
        "\n",
        "    while open_list:\n",
        "        f, g, current, path = heapq.heappop(open_list)\n",
        "        if current == goal:\n",
        "            return path\n",
        "\n",
        "        if current in visited:\n",
        "            continue\n",
        "        visited.add(current)\n",
        "\n",
        "        x, y = current\n",
        "        for dx, dy in [(-1,0), (1,0), (0,-1), (0,1)]:\n",
        "            nx, ny = x+dx, y+dy\n",
        "            if 0 <= nx < rows and 0 <= ny < cols and maze[nx][ny] == 0:\n",
        "                new_cost = g + 1\n",
        "                heapq.heappush(open_list, (new_cost + manhattan((nx, ny), goal), new_cost, (nx, ny), path + [(nx, ny)]))\n",
        "\n",
        "    return None\n",
        "\n",
        "astar_path = astar_pacman(pacman_maze, start, goal)\n",
        "print(\"A* Path:\", astar_path)\n"
      ],
      "metadata": {
        "colab": {
          "base_uri": "https://localhost:8080/"
        },
        "id": "deStpdqcSLw3",
        "outputId": "38264ee4-5017-4bb0-bbc0-e94c82bbdbc9"
      },
      "execution_count": 5,
      "outputs": [
        {
          "output_type": "stream",
          "name": "stdout",
          "text": [
            "A* Path: [(0, 0), (0, 1), (0, 2), (1, 2), (2, 2), (2, 3), (2, 4), (3, 4), (4, 4)]\n"
          ]
        }
      ]
    },
    {
      "cell_type": "markdown",
      "source": [
        "Search Method | Path Found? | Total Steps\n",
        "BFS | ✅ Yes | len(bfs_path)\n",
        "A* | ✅ Yes | len(astar_path)"
      ],
      "metadata": {
        "id": "3DlKPUOpSZW8"
      }
    },
    {
      "cell_type": "code",
      "source": [],
      "metadata": {
        "id": "J133edUcSWxZ"
      },
      "execution_count": null,
      "outputs": []
    }
  ]
}