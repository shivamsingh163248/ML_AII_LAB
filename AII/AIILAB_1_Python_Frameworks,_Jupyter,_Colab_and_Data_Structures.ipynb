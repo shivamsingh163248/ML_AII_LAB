{
  "nbformat": 4,
  "nbformat_minor": 0,
  "metadata": {
    "colab": {
      "provenance": [],
      "authorship_tag": "ABX9TyNr9MIZzzreCcNK5YapAWw9",
      "include_colab_link": true
    },
    "kernelspec": {
      "name": "python3",
      "display_name": "Python 3"
    },
    "language_info": {
      "name": "python"
    }
  },
  "cells": [
    {
      "cell_type": "markdown",
      "metadata": {
        "id": "view-in-github",
        "colab_type": "text"
      },
      "source": [
        "<a href=\"https://colab.research.google.com/github/shivamsingh163248/ML_AII_LAB/blob/main/AII/AIILAB_1_Python_Frameworks%2C_Jupyter%2C_Colab_and_Data_Structures.ipynb\" target=\"_parent\"><img src=\"https://colab.research.google.com/assets/colab-badge.svg\" alt=\"Open In Colab\"/></a>"
      ]
    },
    {
      "cell_type": "code",
      "execution_count": 1,
      "metadata": {
        "colab": {
          "base_uri": "https://localhost:8080/"
        },
        "id": "b9fUO-d9OnLG",
        "outputId": "883b13a0-6908-4225-fff3-9396bdb4ab95"
      },
      "outputs": [
        {
          "output_type": "stream",
          "name": "stdout",
          "text": [
            "List of fruits: ['apple', 'banana', 'cherry']\n",
            "First fruit: apple\n",
            "After appending: ['apple', 'banana', 'cherry', 'orange']\n",
            "After removing banana: ['apple', 'cherry', 'orange']\n"
          ]
        }
      ],
      "source": [
        "# Creating a list\n",
        "fruits = ['apple', 'banana', 'cherry']\n",
        "print(\"List of fruits:\", fruits)\n",
        "\n",
        "# Accessing elements\n",
        "print(\"First fruit:\", fruits[0])\n",
        "\n",
        "# Adding element\n",
        "fruits.append('orange')\n",
        "print(\"After appending:\", fruits)\n",
        "\n",
        "# Removing element\n",
        "fruits.remove('banana')\n",
        "print(\"After removing banana:\", fruits)\n"
      ]
    },
    {
      "cell_type": "code",
      "source": [
        "# Creating a tuple\n",
        "coordinates = (10, 20)\n",
        "print(\"Coordinates:\", coordinates)\n",
        "\n",
        "# Accessing elements\n",
        "print(\"X coordinate:\", coordinates[0])\n",
        "\n",
        "# Tuples cannot be modified!\n"
      ],
      "metadata": {
        "colab": {
          "base_uri": "https://localhost:8080/"
        },
        "id": "4dqsaM86O7tt",
        "outputId": "da3a6a22-e8b1-4636-cc78-9171099a3e92"
      },
      "execution_count": 2,
      "outputs": [
        {
          "output_type": "stream",
          "name": "stdout",
          "text": [
            "Coordinates: (10, 20)\n",
            "X coordinate: 10\n"
          ]
        }
      ]
    },
    {
      "cell_type": "code",
      "source": [
        "# Creating a set\n",
        "colors = {'red', 'green', 'blue'}\n",
        "print(\"Colors:\", colors)\n",
        "\n",
        "# Adding element\n",
        "colors.add('yellow')\n",
        "print(\"After adding yellow:\", colors)\n",
        "\n",
        "# Removing element\n",
        "colors.remove('red')\n",
        "print(\"After removing red:\", colors)\n"
      ],
      "metadata": {
        "colab": {
          "base_uri": "https://localhost:8080/"
        },
        "id": "r8EtziH7O9dj",
        "outputId": "e4bb11f9-9a30-4702-c0fb-d15d7ee6f3c1"
      },
      "execution_count": 3,
      "outputs": [
        {
          "output_type": "stream",
          "name": "stdout",
          "text": [
            "Colors: {'blue', 'green', 'red'}\n",
            "After adding yellow: {'blue', 'green', 'red', 'yellow'}\n",
            "After removing red: {'blue', 'green', 'yellow'}\n"
          ]
        }
      ]
    },
    {
      "cell_type": "code",
      "source": [
        "# Creating a set\n",
        "colors = {'red', 'green', 'blue'}\n",
        "print(\"Colors:\", colors)\n",
        "\n",
        "# Adding element\n",
        "colors.add('yellow')\n",
        "print(\"After adding yellow:\", colors)\n",
        "\n",
        "# Removing element\n",
        "colors.remove('red')\n",
        "print(\"After removing red:\", colors)\n"
      ],
      "metadata": {
        "colab": {
          "base_uri": "https://localhost:8080/"
        },
        "id": "t-UNBg-4O_mm",
        "outputId": "2a1dbc61-72c5-4018-a359-14d3a437f232"
      },
      "execution_count": 4,
      "outputs": [
        {
          "output_type": "stream",
          "name": "stdout",
          "text": [
            "Colors: {'blue', 'green', 'red'}\n",
            "After adding yellow: {'blue', 'green', 'red', 'yellow'}\n",
            "After removing red: {'blue', 'green', 'yellow'}\n"
          ]
        }
      ]
    },
    {
      "cell_type": "code",
      "source": [
        "# Creating a dictionary\n",
        "student = {'name': 'Alice', 'age': 22, 'course': 'Computer Science'}\n",
        "print(\"Student info:\", student)\n",
        "\n",
        "# Accessing values\n",
        "print(\"Name:\", student['name'])\n",
        "\n",
        "# Adding a new key-value pair\n",
        "student['grade'] = 'A'\n",
        "print(\"After adding grade:\", student)\n",
        "\n",
        "# Removing a key\n",
        "del student['age']\n",
        "print(\"After removing age:\", student)\n"
      ],
      "metadata": {
        "colab": {
          "base_uri": "https://localhost:8080/"
        },
        "id": "6X0x68pMPFCS",
        "outputId": "336a1aa7-7b33-439e-95c1-8def288839d8"
      },
      "execution_count": 5,
      "outputs": [
        {
          "output_type": "stream",
          "name": "stdout",
          "text": [
            "Student info: {'name': 'Alice', 'age': 22, 'course': 'Computer Science'}\n",
            "Name: Alice\n",
            "After adding grade: {'name': 'Alice', 'age': 22, 'course': 'Computer Science', 'grade': 'A'}\n",
            "After removing age: {'name': 'Alice', 'course': 'Computer Science', 'grade': 'A'}\n"
          ]
        }
      ]
    },
    {
      "cell_type": "code",
      "source": [],
      "metadata": {
        "id": "8RjdT8EvPH5a"
      },
      "execution_count": null,
      "outputs": []
    }
  ]
}