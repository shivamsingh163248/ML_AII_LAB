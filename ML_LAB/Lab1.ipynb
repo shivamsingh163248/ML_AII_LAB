{
  "nbformat": 4,
  "nbformat_minor": 0,
  "metadata": {
    "colab": {
      "provenance": []
    },
    "kernelspec": {
      "name": "python3",
      "display_name": "Python 3"
    },
    "language_info": {
      "name": "python"
    }
  },
  "cells": [
    {
      "cell_type": "markdown",
      "source": [
        "# Question 1\n",
        " **Write a program that prints all the numbers from 1 to 100. For multiples of 3, print \"Fizz\" instead of the number, and for multiples of 5, print \"Buzz\". For numbers that are multiples of both 3 and 5, print \"FizzBuzz\". Any other number print as it is.**"
      ],
      "metadata": {
        "id": "bqLRn4Oje_nA"
      }
    },
    {
      "cell_type": "code",
      "source": [
        "def fizz_buzz():\n",
        "    for i in range(1, 101):  # Loop through numbers from 1 to 100\n",
        "        if i % 3 == 0 and i % 5 == 0:  # Check if the number is divisible by both 3 and 5\n",
        "            print(\"FizzBuzz\")\n",
        "        elif i % 3 == 0:  # Check if the number is divisible by 3\n",
        "            print(\"Fizz\")\n",
        "        elif i % 5 == 0:  # Check if the number is divisible by 5\n",
        "            print(\"Buzz\")\n",
        "        else:  # Print the number if it's not divisible by 3 or 5\n",
        "            print(i)\n",
        "\n",
        "# Call the function to print the results\n",
        "fizz_buzz()\n"
      ],
      "metadata": {
        "colab": {
          "base_uri": "https://localhost:8080/"
        },
        "id": "3yRZuQRve2wp",
        "outputId": "d0b9a7b2-d9c6-4f20-f9ed-b8b6ada5f145"
      },
      "execution_count": null,
      "outputs": [
        {
          "output_type": "stream",
          "name": "stdout",
          "text": [
            "1\n",
            "2\n",
            "Fizz\n",
            "4\n",
            "Buzz\n",
            "Fizz\n",
            "7\n",
            "8\n",
            "Fizz\n",
            "Buzz\n",
            "11\n",
            "Fizz\n",
            "13\n",
            "14\n",
            "FizzBuzz\n",
            "16\n",
            "17\n",
            "Fizz\n",
            "19\n",
            "Buzz\n",
            "Fizz\n",
            "22\n",
            "23\n",
            "Fizz\n",
            "Buzz\n",
            "26\n",
            "Fizz\n",
            "28\n",
            "29\n",
            "FizzBuzz\n",
            "31\n",
            "32\n",
            "Fizz\n",
            "34\n",
            "Buzz\n",
            "Fizz\n",
            "37\n",
            "38\n",
            "Fizz\n",
            "Buzz\n",
            "41\n",
            "Fizz\n",
            "43\n",
            "44\n",
            "FizzBuzz\n",
            "46\n",
            "47\n",
            "Fizz\n",
            "49\n",
            "Buzz\n",
            "Fizz\n",
            "52\n",
            "53\n",
            "Fizz\n",
            "Buzz\n",
            "56\n",
            "Fizz\n",
            "58\n",
            "59\n",
            "FizzBuzz\n",
            "61\n",
            "62\n",
            "Fizz\n",
            "64\n",
            "Buzz\n",
            "Fizz\n",
            "67\n",
            "68\n",
            "Fizz\n",
            "Buzz\n",
            "71\n",
            "Fizz\n",
            "73\n",
            "74\n",
            "FizzBuzz\n",
            "76\n",
            "77\n",
            "Fizz\n",
            "79\n",
            "Buzz\n",
            "Fizz\n",
            "82\n",
            "83\n",
            "Fizz\n",
            "Buzz\n",
            "86\n",
            "Fizz\n",
            "88\n",
            "89\n",
            "FizzBuzz\n",
            "91\n",
            "92\n",
            "Fizz\n",
            "94\n",
            "Buzz\n",
            "Fizz\n",
            "97\n",
            "98\n",
            "Fizz\n",
            "Buzz\n"
          ]
        }
      ]
    },
    {
      "cell_type": "markdown",
      "source": [
        "# Question 2\n",
        "2. Write a recursive function factorial(n) to calculate the factorial of a given\n",
        "positive integer n."
      ],
      "metadata": {
        "id": "dD8n2WDHfmoU"
      }
    },
    {
      "cell_type": "code",
      "source": [
        "def factorial(n):\n",
        "\n",
        "    if n == 0 or n == 1:\n",
        "        return 1\n",
        "    else:\n",
        "        return n * factorial(n - 1)\n",
        "\n",
        "# Example usage\n",
        "number = 5\n",
        "print(f\"The factorial of {number} is {factorial(number)}\")\n"
      ],
      "metadata": {
        "colab": {
          "base_uri": "https://localhost:8080/"
        },
        "id": "grfGenSkfg6p",
        "outputId": "040bcd82-b5b5-4235-9ee9-14b2df5120b7"
      },
      "execution_count": null,
      "outputs": [
        {
          "output_type": "stream",
          "name": "stdout",
          "text": [
            "The factorial of 5 is 120\n"
          ]
        }
      ]
    },
    {
      "cell_type": "markdown",
      "source": [
        "# Question 3\n",
        "3. Define a class BankAccount in python program with the following:\n",
        "Attributes: account_number, account_holder, balance.\n",
        "Methods:\n",
        "deposit(amount): Adds the amount to the balance.\n",
        "withdraw(amount): Subtracts the amount from the balance if\n",
        "sufficient funds are available.\n",
        "get_balance(): Returns the current balance.\n",
        "Demonstrate the use of this class with an example.\n"
      ],
      "metadata": {
        "id": "8k8qdEKZgF95"
      }
    },
    {
      "cell_type": "code",
      "source": [
        "class BankAccount:\n",
        "    def __init__(self, account_number, account_holder, balance=0):\n",
        "\n",
        "        self.account_number = account_number\n",
        "        self.account_holder = account_holder\n",
        "        self.balance = balance\n",
        "\n",
        "    def deposit(self, amount):\n",
        "\n",
        "        if amount > 0:\n",
        "            self.balance += amount\n",
        "            print(f\"Deposited {amount}. New balance: {self.balance}\")\n",
        "        else:\n",
        "            print(\"Deposit amount must be positive.\")\n",
        "\n",
        "    def withdraw(self, amount):\n",
        "\n",
        "        if amount > self.balance:\n",
        "            print(\"Insufficient funds.\")\n",
        "        elif amount <= 0:\n",
        "            print(\"Withdrawal amount must be positive.\")\n",
        "        else:\n",
        "            self.balance -= amount\n",
        "            print(f\"Withdrew {amount}. New balance: {self.balance}\")\n",
        "\n",
        "    def get_balance(self):\n",
        "\n",
        "        return self.balance\n",
        "\n",
        "\n",
        "if __name__ == \"__main__\":\n",
        "\n",
        "    account = BankAccount(\"123456789\", \"John Doe\", 500)\n",
        "    print(f\"Initial balance: {account.get_balance()}\")\n",
        "    account.deposit(200)\n",
        "    account.withdraw(150)\n",
        "    account.withdraw(600)\n",
        "\n",
        "\n",
        "    print(f\"Final balance: {account.get_balance()}\")\n"
      ],
      "metadata": {
        "colab": {
          "base_uri": "https://localhost:8080/"
        },
        "id": "GsNC0zxdgQ6m",
        "outputId": "5f44efa4-8407-4345-e7ca-11f80a119552"
      },
      "execution_count": null,
      "outputs": [
        {
          "output_type": "stream",
          "name": "stdout",
          "text": [
            "Initial balance: 500\n",
            "Deposited 200. New balance: 700\n",
            "Withdrew 150. New balance: 550\n",
            "Insufficient funds.\n",
            "Final balance: 550\n"
          ]
        }
      ]
    },
    {
      "cell_type": "markdown",
      "source": [
        "# Question 4\n",
        "Using the math library to write a function calculate_distance(x1, y1, x2,\n",
        "y2) that calculates the Euclidean distance between two points (x1, y1) and\n",
        "(x2, y2).\n"
      ],
      "metadata": {
        "id": "qPcD_wm8gykL"
      }
    },
    {
      "cell_type": "code",
      "source": [
        "import math\n",
        "\n",
        "def calculate_distance(x1, y1, x2, y2):\n",
        "\n",
        "    return math.sqrt((x2 - x1)**2 + (y2 - y1)**2)\n",
        "\n",
        "\n",
        "point1 = (3, 4)\n",
        "point2 = (7, 1)\n",
        "distance = calculate_distance(point1[0], point1[1], point2[0], point2[1])\n",
        "print(f\"The distance between points {point1} and {point2} is {distance:.2f}\")\n"
      ],
      "metadata": {
        "colab": {
          "base_uri": "https://localhost:8080/"
        },
        "id": "6JGdDOZ6g5mg",
        "outputId": "c28932de-ed10-42d2-c933-26dc6fb5fb62"
      },
      "execution_count": null,
      "outputs": [
        {
          "output_type": "stream",
          "name": "stdout",
          "text": [
            "The distance between points (3, 4) and (7, 1) is 5.00\n"
          ]
        }
      ]
    },
    {
      "cell_type": "markdown",
      "source": [
        "# Question 5\n",
        "Write a Python program that uses list comprehension to generate a list of\n",
        "all numbers between 1 and 1000 divisible by 7 but not by 5.\n"
      ],
      "metadata": {
        "id": "lNPQopQdhUGd"
      }
    },
    {
      "cell_type": "code",
      "source": [
        "\n",
        "numbers = [n for n in range(1, 1001) if n % 7 == 0 and n % 5 != 0]\n",
        "\n",
        "# Print the result\n",
        "print(numbers)\n"
      ],
      "metadata": {
        "colab": {
          "base_uri": "https://localhost:8080/"
        },
        "id": "PLBkKaRxha-n",
        "outputId": "a1f956d6-add0-49ca-e3e5-77335383ce3d"
      },
      "execution_count": null,
      "outputs": [
        {
          "output_type": "stream",
          "name": "stdout",
          "text": [
            "[7, 14, 21, 28, 42, 49, 56, 63, 77, 84, 91, 98, 112, 119, 126, 133, 147, 154, 161, 168, 182, 189, 196, 203, 217, 224, 231, 238, 252, 259, 266, 273, 287, 294, 301, 308, 322, 329, 336, 343, 357, 364, 371, 378, 392, 399, 406, 413, 427, 434, 441, 448, 462, 469, 476, 483, 497, 504, 511, 518, 532, 539, 546, 553, 567, 574, 581, 588, 602, 609, 616, 623, 637, 644, 651, 658, 672, 679, 686, 693, 707, 714, 721, 728, 742, 749, 756, 763, 777, 784, 791, 798, 812, 819, 826, 833, 847, 854, 861, 868, 882, 889, 896, 903, 917, 924, 931, 938, 952, 959, 966, 973, 987, 994]\n"
          ]
        }
      ]
    },
    {
      "cell_type": "markdown",
      "source": [
        "# Question 6\n",
        "Write a Python function remove_duplicates(lst) that takes a list as input\n",
        "and returns a new list with all duplicate elements removed, maintaining the\n",
        "original order without inbuilt functions.\n"
      ],
      "metadata": {
        "id": "6kTv4e-whnAN"
      }
    },
    {
      "cell_type": "code",
      "source": [
        "def remove_duplicates(lst):\n",
        "    result = []\n",
        "    for item in lst:\n",
        "        # Add the item to the result if it's not already in it\n",
        "        if item not in result:\n",
        "            result.append(item)\n",
        "    return result\n",
        "\n",
        "\n",
        "input_list = [1, 2, 2, 3, 4, 3, 5, 6, 5, 7]\n",
        "output_list = remove_duplicates(input_list)\n",
        "print(f\"Original list: {input_list}\")\n",
        "print(f\"List without duplicates: {output_list}\")\n"
      ],
      "metadata": {
        "id": "WBlDqLGfhyWn",
        "outputId": "e2eba3ba-514d-4545-ba3c-23f95f979cd5",
        "colab": {
          "base_uri": "https://localhost:8080/"
        }
      },
      "execution_count": null,
      "outputs": [
        {
          "output_type": "stream",
          "name": "stdout",
          "text": [
            "Original list: [1, 2, 2, 3, 4, 3, 5, 6, 5, 7]\n",
            "List without duplicates: [1, 2, 3, 4, 5, 6, 7]\n"
          ]
        }
      ]
    },
    {
      "cell_type": "code",
      "source": [],
      "metadata": {
        "id": "Qn0ZBstxh1qo"
      },
      "execution_count": null,
      "outputs": []
    }
  ]
}