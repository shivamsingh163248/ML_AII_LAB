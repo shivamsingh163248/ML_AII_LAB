{
  "nbformat": 4,
  "nbformat_minor": 0,
  "metadata": {
    "colab": {
      "provenance": []
    },
    "kernelspec": {
      "name": "python3",
      "display_name": "Python 3"
    },
    "language_info": {
      "name": "python"
    }
  },
  "cells": [
    {
      "cell_type": "code",
      "execution_count": null,
      "metadata": {
        "colab": {
          "base_uri": "https://localhost:8080/"
        },
        "id": "2MUmWwumfgtY",
        "outputId": "a8a8c6fe-086b-4ec1-c401-5264e267acf5"
      },
      "outputs": [
        {
          "output_type": "stream",
          "name": "stdout",
          "text": [
            "Weights: [0.1 0.1]\n",
            "Bias: -0.1\n",
            "Iterations to learn: 3\n",
            "Predictions: [0 1 1 1]\n"
          ]
        }
      ],
      "source": [
        "# prompt: Implement a Perceptron for OR Gate. How many iterations does it take to learn the\n",
        "# dataset?\n",
        "\n",
        "import numpy as np\n",
        "\n",
        "class Perceptron:\n",
        "    def __init__(self, learning_rate=0.1, n_iterations=100):\n",
        "        self.learning_rate = learning_rate\n",
        "        self.n_iterations = n_iterations\n",
        "        self.weights = None\n",
        "        self.bias = None\n",
        "        self.iteration_count = 0\n",
        "    def fit(self, X, y):\n",
        "        n_samples, n_features = X.shape\n",
        "        self.weights = np.zeros(n_features)\n",
        "        self.bias = 0\n",
        "\n",
        "        y_ = np.array([1 if i > 0 else 0 for i in y])\n",
        "\n",
        "        for _ in range(self.n_iterations):\n",
        "            self.iteration_count += 1\n",
        "            for idx, x_i in enumerate(X):\n",
        "                linear_output = np.dot(x_i, self.weights) + self.bias\n",
        "                y_predicted = self.activation_function(linear_output)\n",
        "                update = self.learning_rate * (y_[idx] - y_predicted)\n",
        "                self.weights += update * x_i\n",
        "                self.bias += update\n",
        "\n",
        "            if np.all(self.predict(X) == y_):\n",
        "              break\n",
        "\n",
        "    def predict(self, X):\n",
        "        linear_output = np.dot(X, self.weights) + self.bias\n",
        "        y_predicted = self.activation_function(linear_output)\n",
        "        return y_predicted\n",
        "    def activation_function(self, x):\n",
        "        return np.where(x>=0, 1, 0)\n",
        "\n",
        "# OR Gate inputs and outputs\n",
        "X = np.array([[0, 0], [0, 1], [1, 0], [1, 1]])\n",
        "y = np.array([0, 1, 1, 1])\n",
        "\n",
        "# Initialize and train the perceptron\n",
        "perceptron = Perceptron(learning_rate=0.1, n_iterations=100)\n",
        "perceptron.fit(X, y)\n",
        "\n",
        "# Print the weights, bias, and number of iterations\n",
        "print(\"Weights:\", perceptron.weights)\n",
        "print(\"Bias:\", perceptron.bias)\n",
        "print(\"Iterations to learn:\", perceptron.iteration_count)\n",
        "print(\"Predictions:\", perceptron.predict(X))\n"
      ]
    },
    {
      "cell_type": "code",
      "source": [
        "# prompt: Implement a Perceptron for AND Gate. How many iterations does it take to learn\n",
        "# the dataset?\n",
        "\n",
        "import numpy as np\n",
        "\n",
        "\n",
        "class Perceptron:\n",
        "    def __init__(self, learning_rate=0.1, n_iterations=100):\n",
        "        self.learning_rate = learning_rate\n",
        "        self.n_iterations = n_iterations\n",
        "        self.weights = None\n",
        "        self.bias = None\n",
        "        self.iteration_count = 0\n",
        "    def fit(self, X, y):\n",
        "        n_samples, n_features = X.shape\n",
        "        self.weights = np.zeros(n_features)\n",
        "        self.bias = 0\n",
        "\n",
        "        y_ = np.array([1 if i > 0 else 0 for i in y])\n",
        "\n",
        "        for _ in range(self.n_iterations):\n",
        "            self.iteration_count += 1\n",
        "            for idx, x_i in enumerate(X):\n",
        "                linear_output = np.dot(x_i, self.weights) + self.bias\n",
        "                y_predicted = self.activation_function(linear_output)\n",
        "                update = self.learning_rate * (y_[idx] - y_predicted)\n",
        "                self.weights += update * x_i\n",
        "                self.bias += update\n",
        "\n",
        "            if np.all(self.predict(X) == y_):\n",
        "              break\n",
        "\n",
        "    def predict(self, X):\n",
        "        linear_output = np.dot(X, self.weights) + self.bias\n",
        "        y_predicted = self.activation_function(linear_output)\n",
        "        return y_predicted\n",
        "    def activation_function(self, x):\n",
        "        return np.where(x>=0, 1, 0)\n",
        "\n",
        "# AND Gate inputs and outputs\n",
        "X = np.array([[0, 0], [0, 1], [1, 0], [1, 1]])\n",
        "y = np.array([0, 0, 0, 1])\n",
        "\n",
        "# Initialize and train the perceptron\n",
        "perceptron = Perceptron(learning_rate=0.1, n_iterations=100)\n",
        "perceptron.fit(X, y)\n",
        "\n",
        "# Print the weights, bias, and number of iterations\n",
        "print(\"Weights:\", perceptron.weights)\n",
        "print(\"Bias:\", perceptron.bias)\n",
        "print(\"Iterations to learn:\", perceptron.iteration_count)\n",
        "print(\"Predictions:\", perceptron.predict(X))\n"
      ],
      "metadata": {
        "colab": {
          "base_uri": "https://localhost:8080/"
        },
        "id": "34CtbMtof38L",
        "outputId": "21e95d01-44f7-47ab-e19c-bd03f2f5e020"
      },
      "execution_count": null,
      "outputs": [
        {
          "output_type": "stream",
          "name": "stdout",
          "text": [
            "Weights: [0.2 0.1]\n",
            "Bias: -0.20000000000000004\n",
            "Iterations to learn: 3\n",
            "Predictions: [0 0 0 1]\n"
          ]
        }
      ]
    },
    {
      "cell_type": "code",
      "source": [
        "# prompt: Evaluate Perceptron on a Linearly Inseparable Dataset (XOR Problem). Explain\n",
        "# what the problem is with the dataset. Why the current rule does not apply to this\n",
        "# kind of data? What's your solution to this problem?\n",
        "\n",
        "\n",
        "\n",
        "#class Perceptron:\n",
        "    # ... (Existing Perceptron class code remains unchanged)\n",
        "import numpy as np\n",
        "\n",
        "\n",
        "class Perceptron:\n",
        "    def __init__(self, learning_rate=0.1, n_iterations=100):\n",
        "        self.learning_rate = learning_rate\n",
        "        self.n_iterations = n_iterations\n",
        "        self.weights = None\n",
        "        self.bias = None\n",
        "        self.iteration_count = 0\n",
        "    def fit(self, X, y):\n",
        "        n_samples, n_features = X.shape\n",
        "        self.weights = np.zeros(n_features)\n",
        "        self.bias = 0\n",
        "\n",
        "        y_ = np.array([1 if i > 0 else 0 for i in y])\n",
        "\n",
        "        for _ in range(self.n_iterations):\n",
        "            self.iteration_count += 1\n",
        "            for idx, x_i in enumerate(X):\n",
        "                linear_output = np.dot(x_i, self.weights) + self.bias\n",
        "                y_predicted = self.activation_function(linear_output)\n",
        "                update = self.learning_rate * (y_[idx] - y_predicted)\n",
        "                self.weights += update * x_i\n",
        "                self.bias += update\n",
        "\n",
        "            if np.all(self.predict(X) == y_):\n",
        "              break\n",
        "\n",
        "    def predict(self, X):\n",
        "        linear_output = np.dot(X, self.weights) + self.bias\n",
        "        y_predicted = self.activation_function(linear_output)\n",
        "        return y_predicted\n",
        "    def activation_function(self, x):\n",
        "        return np.where(x>=0, 1, 0)\n",
        "\n",
        "# XOR Gate inputs and outputs\n",
        "X = np.array([[0, 0], [0, 1], [1, 0], [1, 1]])\n",
        "y = np.array([0, 1, 1, 0])\n",
        "\n",
        "# Initialize and train the perceptron\n",
        "perceptron = Perceptron(learning_rate=0.1, n_iterations=100)\n",
        "perceptron.fit(X, y)\n",
        "\n",
        "# Print the results\n",
        "print(\"Weights:\", perceptron.weights)\n",
        "print(\"Bias:\", perceptron.bias)\n",
        "print(\"Iterations to learn:\", perceptron.iteration_count)\n",
        "print(\"Predictions:\", perceptron.predict(X))\n",
        "\n",
        "# Explanation and Solution\n",
        "print(\"\\nExplanation:\")\n",
        "print(\"The XOR problem demonstrates the limitation of a single-layer perceptron.\")\n",
        "print(\"The XOR dataset is linearly inseparable.  This means you cannot draw a single straight line to separate the data points into two classes (0 and 1).\")\n",
        "print(\"A single-layer perceptron can only create linear decision boundaries.\")\n",
        "print(\"The perceptron learning rule tries to find a line (or hyperplane in higher dimensions) that separates the data points.\")\n",
        "print(\"Since XOR is not linearly separable, the perceptron will fail to converge to a solution that correctly classifies all inputs.\\n\")\n",
        "\n",
        "print(\"Solution:\")\n",
        "print(\"To solve the XOR problem, you need a multi-layer perceptron (MLP) or other non-linear models.\")\n",
        "print(\"An MLP can learn non-linear decision boundaries, allowing it to solve problems like XOR.\")\n",
        "print(\"Multi-layer perceptrons with hidden layers and non-linear activation functions can approximate any continuous function, making them universal function approximators. The hidden layers introduce non-linearity to the model.\")\n"
      ],
      "metadata": {
        "colab": {
          "base_uri": "https://localhost:8080/"
        },
        "id": "nlwWN7_whW11",
        "outputId": "9986611a-c395-4409-88e0-f48bc8d8d7df"
      },
      "execution_count": null,
      "outputs": [
        {
          "output_type": "stream",
          "name": "stdout",
          "text": [
            "Weights: [-0.1  0. ]\n",
            "Bias: 0.0\n",
            "Iterations to learn: 100\n",
            "Predictions: [1 1 0 0]\n",
            "\n",
            "Explanation:\n",
            "The XOR problem demonstrates the limitation of a single-layer perceptron.\n",
            "The XOR dataset is linearly inseparable.  This means you cannot draw a single straight line to separate the data points into two classes (0 and 1).\n",
            "A single-layer perceptron can only create linear decision boundaries.\n",
            "The perceptron learning rule tries to find a line (or hyperplane in higher dimensions) that separates the data points.\n",
            "Since XOR is not linearly separable, the perceptron will fail to converge to a solution that correctly classifies all inputs.\n",
            "\n",
            "Solution:\n",
            "To solve the XOR problem, you need a multi-layer perceptron (MLP) or other non-linear models.\n",
            "An MLP can learn non-linear decision boundaries, allowing it to solve problems like XOR.\n",
            "Multi-layer perceptrons with hidden layers and non-linear activation functions can approximate any continuous function, making them universal function approximators. The hidden layers introduce non-linearity to the model.\n"
          ]
        }
      ]
    },
    {
      "cell_type": "code",
      "source": [
        "# prompt: Exploratory problem: Using perceptron to build a linear regression classifier.\n",
        "\n",
        "import numpy as np\n",
        "\n",
        "# ... (Existing Perceptron class code remains unchanged)\n",
        "\n",
        "\n",
        "class Perceptron:\n",
        "    def __init__(self, learning_rate=0.1, n_iterations=100):\n",
        "        self.learning_rate = learning_rate\n",
        "        self.n_iterations = n_iterations\n",
        "        self.weights = None\n",
        "        self.bias = None\n",
        "        self.iteration_count = 0\n",
        "    def fit(self, X, y):\n",
        "        n_samples, n_features = X.shape\n",
        "        self.weights = np.zeros(n_features)\n",
        "        self.bias = 0\n",
        "\n",
        "        y_ = np.array([1 if i > 0 else 0 for i in y])\n",
        "\n",
        "        for _ in range(self.n_iterations):\n",
        "            self.iteration_count += 1\n",
        "            for idx, x_i in enumerate(X):\n",
        "                linear_output = np.dot(x_i, self.weights) + self.bias\n",
        "                y_predicted = self.activation_function(linear_output)\n",
        "                update = self.learning_rate * (y_[idx] - y_predicted)\n",
        "                self.weights += update * x_i\n",
        "                self.bias += update\n",
        "\n",
        "            if np.all(self.predict(X) == y_):\n",
        "              break\n",
        "\n",
        "    def predict(self, X):\n",
        "        linear_output = np.dot(X, self.weights) + self.bias\n",
        "        y_predicted = self.activation_function(linear_output)\n",
        "        return y_predicted\n",
        "    def activation_function(self, x):\n",
        "        return np.where(x>=0, 1, 0)\n",
        "\n",
        "# XOR Gate inputs and outputs\n",
        "X = np.array([[0, 0], [0, 1], [1, 0], [1, 1]])\n",
        "y = np.array([0, 1, 1, 0])\n",
        "\n",
        "# Initialize and train the perceptron\n",
        "perceptron = Perceptron(learning_rate=0.1, n_iterations=1000) # Increased iterations\n",
        "perceptron.fit(X, y)\n",
        "\n",
        "# Print the results\n",
        "print(\"Weights:\", perceptron.weights)\n",
        "print(\"Bias:\", perceptron.bias)\n",
        "print(\"Iterations to learn:\", perceptron.iteration_count)\n",
        "print(\"Predictions:\", perceptron.predict(X))\n"
      ],
      "metadata": {
        "colab": {
          "base_uri": "https://localhost:8080/"
        },
        "id": "HB7ZxuTghk0m",
        "outputId": "6ec3fa26-e270-4331-af91-3d510376cc76"
      },
      "execution_count": null,
      "outputs": [
        {
          "output_type": "stream",
          "name": "stdout",
          "text": [
            "Weights: [-0.1  0. ]\n",
            "Bias: 0.0\n",
            "Iterations to learn: 1000\n",
            "Predictions: [1 1 0 0]\n"
          ]
        }
      ]
    },
    {
      "cell_type": "code",
      "source": [
        "import numpy as np\n",
        "import matplotlib.pyplot as plt\n",
        "import torch"
      ],
      "metadata": {
        "id": "QOabz5oOiw4U"
      },
      "execution_count": null,
      "outputs": []
    },
    {
      "cell_type": "code",
      "source": [
        "x_train = np.array ([[4.7], [2.4], [7.5], [7.1], [4.3],\n",
        "                     [7.8], [8.9], [5.2], [4.59], [2.1],\n",
        "                     [8], [5], [7.5], [5], [4],\n",
        "                     [8], [5.2], [4.9], [3], [4.7],\n",
        "                     [4], [4.8], [3.5], [2.1], [4.1]],\n",
        "                    dtype = np.float32)\n",
        "y_train = np.array ([[2.6], [1.6], [3.09], [2.4], [2.4],\n",
        "                     [3.3], [2.6], [1.96], [3.13], [1.76],\n",
        "                     [3.2], [2.1], [1.6], [2.5], [2.2],\n",
        "                     [2.75], [2.4], [1.8], [1], [2],\n",
        "                     [1.6], [2.4], [2.6], [1.5], [3.1]],\n",
        "                    dtype = np.float32)"
      ],
      "metadata": {
        "id": "9pIymD5ni0_0"
      },
      "execution_count": null,
      "outputs": []
    },
    {
      "cell_type": "code",
      "source": [
        "plt.figure(figsize=(8,8))\n",
        "plt.scatter(x_train, y_train, c='green', s=200, label='Original data')\n",
        "plt.show()"
      ],
      "metadata": {
        "colab": {
          "base_uri": "https://localhost:8080/",
          "height": 676
        },
        "id": "b7dZ6ZsGi3Ra",
        "outputId": "f64118f4-8098-41ab-fc04-49e0aeb228cb"
      },
      "execution_count": null,
      "outputs": [
        {
          "output_type": "display_data",
          "data": {
            "text/plain": [
              "<Figure size 800x800 with 1 Axes>"
            ],
            "image/png": "[encoded data removed]"
          },
          "metadata": {}
        }
      ]
    },
    {
      "cell_type": "code",
      "source": [
        "X_train = torch.from_numpy(x_train)\n",
        "Y_train = torch.from_numpy(y_train)\n",
        "print('requires_grad for X_train: ', X_train.requires_grad)\n",
        "print('requires_grad for Y_train: ', Y_train.requires_grad)"
      ],
      "metadata": {
        "colab": {
          "base_uri": "https://localhost:8080/"
        },
        "id": "6KlAuKBpi6pS",
        "outputId": "62ca300a-d84a-4d91-9b06-80b1397e4a67"
      },
      "execution_count": null,
      "outputs": [
        {
          "output_type": "stream",
          "name": "stdout",
          "text": [
            "requires_grad for X_train:  False\n",
            "requires_grad for Y_train:  False\n"
          ]
        }
      ]
    },
    {
      "cell_type": "code",
      "source": [
        "\n",
        "input_size = 1\n",
        "hidden_size = 1\n",
        "output_size = 1\n",
        "learning_rate = 0.001\n",
        "w1 = torch.rand(input_size,hidden_size,requires_grad=True)\n",
        "b1 = torch.rand(hidden_size,output_size,requires_grad=True)\n"
      ],
      "metadata": {
        "id": "3P8va8v4i-_z"
      },
      "execution_count": null,
      "outputs": []
    },
    {
      "cell_type": "code",
      "source": [
        "for iter in range(1, 4001):\n",
        "    y_pred = X_train.mm(w1).clamp(min=0).add(b1)\n",
        "    loss = (y_pred - Y_train).pow(2).sum()\n",
        "    if iter % 100 ==0:\n",
        "        print(iter, loss.item())\n",
        "    loss.backward()\n",
        "    with torch.no_grad():\n",
        "        w1 -= learning_rate * w1.grad\n",
        "        b1 -= learning_rate * b1.grad\n",
        "        w1.grad.zero_()\n",
        "        b1.grad.zero_()"
      ],
      "metadata": {
        "colab": {
          "base_uri": "https://localhost:8080/"
        },
        "id": "ihyES0ZKjBsL",
        "outputId": "53fcd920-e5db-4deb-8cf6-7650c32bfcfb"
      },
      "execution_count": null,
      "outputs": [
        {
          "output_type": "stream",
          "name": "stdout",
          "text": [
            "100 6.727749824523926\n",
            "200 6.306143760681152\n",
            "300 6.1769633293151855\n",
            "400 6.137382507324219\n",
            "500 6.1252546310424805\n",
            "600 6.121537685394287\n",
            "700 6.120400428771973\n",
            "800 6.12005090713501\n",
            "900 6.1199445724487305\n",
            "1000 6.119911193847656\n",
            "1100 6.119900703430176\n",
            "1200 6.119897842407227\n",
            "1300 6.119897365570068\n",
            "1400 6.11989688873291\n",
            "1500 6.119897842407227\n",
            "1600 6.119897365570068\n",
            "1700 6.11989688873291\n",
            "1800 6.119897365570068\n",
            "1900 6.11989688873291\n",
            "2000 6.119896411895752\n",
            "2100 6.119896411895752\n",
            "2200 6.119896411895752\n",
            "2300 6.119896411895752\n",
            "2400 6.119896411895752\n",
            "2500 6.119896411895752\n",
            "2600 6.119896411895752\n",
            "2700 6.119896411895752\n",
            "2800 6.119896411895752\n",
            "2900 6.119896411895752\n",
            "3000 6.119896411895752\n",
            "3100 6.119896411895752\n",
            "3200 6.119896411895752\n",
            "3300 6.119896411895752\n",
            "3400 6.119896411895752\n",
            "3500 6.119896411895752\n",
            "3600 6.119896411895752\n",
            "3700 6.119896411895752\n",
            "3800 6.119896411895752\n",
            "3900 6.119896411895752\n",
            "4000 6.119896411895752\n"
          ]
        }
      ]
    },
    {
      "cell_type": "code",
      "source": [
        "print ('w1: ', w1)\n",
        "print ('b1: ', b1)"
      ],
      "metadata": {
        "colab": {
          "base_uri": "https://localhost:8080/"
        },
        "id": "DD1vCHCHjaOd",
        "outputId": "bf6bd15c-5015-471f-fa9d-b7c9133774ed"
      },
      "execution_count": null,
      "outputs": [
        {
          "output_type": "stream",
          "name": "stdout",
          "text": [
            "w1:  tensor([[0.1751]], requires_grad=True)\n",
            "b1:  tensor([[1.4045]], requires_grad=True)\n"
          ]
        }
      ]
    },
    {
      "cell_type": "code",
      "source": [
        "predicted = X_train.mm(w1).clamp(min=0).add(b1) # Changed x_train_tensor to X_train"
      ],
      "metadata": {
        "id": "v7MrVYqQj1Qz"
      },
      "execution_count": null,
      "outputs": []
    },
    {
      "cell_type": "code",
      "source": [
        "plt.figure(figsize=(8, 8))\n",
        "plt.scatter(x_train, y_train, c='green', s=200, label='Original data')\n",
        "plt.plot(x_train, predicted.detach().numpy(), label = 'Fitted line') # Call detach().numpy()\n",
        "plt.legend()\n",
        "plt.show()"
      ],
      "metadata": {
        "colab": {
          "base_uri": "https://localhost:8080/",
          "height": 676
        },
        "id": "gsMS45zOjgop",
        "outputId": "1366c1ef-a036-4d6b-911e-752dfa38d64f"
      },
      "execution_count": null,
      "outputs": [
        {
          "output_type": "display_data",
          "data": {
            "text/plain": [
              "<Figure size 800x800 with 1 Axes>"
            ],
            "image/png": "[encoded data removed]"
          },
          "metadata": {}
        }
      ]
    },
    {
      "cell_type": "code",
      "source": [],
      "metadata": {
        "id": "GiiFGGxNjj2a"
      },
      "execution_count": null,
      "outputs": []
    }
  ]
}